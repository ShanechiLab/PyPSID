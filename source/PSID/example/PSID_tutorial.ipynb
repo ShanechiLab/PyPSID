{
  "nbformat": 4,
  "nbformat_minor": 0,
  "metadata": {
    "colab": {
      "name": "PSID_example.ipynb",
      "provenance": [],
      "collapsed_sections": [],
      "toc_visible": true
    },
    "kernelspec": {
      "name": "python37564bitpy37tf2cpuvenvf1cb5f54778b4d19a30290bfb342f60f",
      "display_name": "Python 3.7.5 64-bit ('py37tf2cpu': venv)",
      "language": "python"
    }
  },
  "cells": [
    {
      "cell_type": "markdown",
      "metadata": {
        "id": "isXmUBaxJanB"
      },
      "source": [
        "Written by: Omid G. Sani  \n",
        "Last update: Apr 29, 2021"
      ]
    },
    {
      "cell_type": "markdown",
      "metadata": {
        "id": "0pXbrXQPKQRF"
      },
      "source": [
        "# What is PSID?\n",
        "\n",
        "PSID stands for preferential subspace identification, a method for dynamic modeling of time-series data, while prioritizing the dynamics shared with another time-series. \n",
        "\n",
        "For example, given signals $y_k$ (e.g. neural signals) and $z_k$ (e.g behavior), PSID learns a dynamic model for $y_k$ while prioritizing the dynamics that are relevant to $z_k$.\n",
        "\n",
        "For the derivation and results in real neural data see the paper below.\n",
        "\n",
        "**Publication:**\n",
        "\n",
        "Omid G. Sani, Hamidreza Abbaspourazad, Yan T. Wong, Bijan Pesaran, Maryam M. Shanechi. *Modeling behaviorally relevant neural dynamics enabled by preferential subspace identification*. Nature Neuroscience 24, 140–149 (2021). https://doi.org/10.1038/s41593-020-00733-0\n",
        "\n",
        "View-only full-text link: https://rdcu.be/b993t\n",
        "\n",
        "Original preprint: https://doi.org/10.1101/808154\n",
        "\n",
        "You can also find a summary of the paper in the following Twitter thread: https://twitter.com/MaryamShanechi/status/1325835609345122304"
      ]
    },
    {
      "cell_type": "markdown",
      "metadata": {
        "id": "BSlPMSM5Ai3P"
      },
      "source": [
        "# Installing PSID\n",
        "To use PSID, you can either get the source code from [the PSID Github repository](https://github.com/ShanechiLab/PSID), or install it in your Python environment using pip:\n",
        "\n",
        "\n",
        "```\n",
        "pip install PSID\n",
        "```\n",
        "\n",
        "You can find the usage license in [LICENSE.md](https://github.com/ShanechiLab/PyPSID/blob/main/LICENSE.md). For this notebook, we will also start by installing PSID from pip."
      ]
    },
    {
      "cell_type": "code",
      "metadata": {
        "colab": {
          "base_uri": "https://localhost:8080/"
        },
        "id": "DZFHrfUEAYmC",
        "outputId": "2c807175-d8ba-4c0f-f75e-cc191c653876"
      },
      "source": [
        "!pip install PSID --upgrade"
      ],
      "execution_count": 1,
      "outputs": [
        {
          "output_type": "stream",
          "name": "stdout",
          "text": [
            "Requirement already satisfied: PSID in c:\\codes\\envs\\py37tf2cpu\\lib\\site-packages (1.0.1)\n"
          ]
        }
      ]
    },
    {
      "cell_type": "markdown",
      "metadata": {
        "id": "KsDpingpAhpK"
      },
      "source": [
        "# Using PSID\n",
        "## Modeling data\n",
        "To use PSID, you first need to import the library by running:\n",
        "```\n",
        "import PSID\n",
        "```\n",
        "You can then use its main data modeling function as:\n",
        "```\n",
        "idSys = PSID.PSID(y, z, nx, n1, i);\n",
        "```\n",
        "With the following arguments:\n",
        "- `y` and `z`: Neural (e.g. LFP signal powers or spike counts) and behavioral data (e.g. joint angles, hand position, etc), respectively. Dimensions are: time x data dimension (this can be changed with an optional argument documented in the code).\n",
        "- `nx`: the total dimension of the latent state in the model.\n",
        "- `n1`: the number of latent state dimensions that are going to be dedicated to behaviorally relevant neural dynamics.\n",
        "- `i`: the subspace horizon used for modeling. There is more on the choice of `i` later in this notebook, but numbers such as 5 or 10 are typically suitable values for `i`.\n",
        "\n",
        "And the following output:\n",
        "- `idSys`: an object containing all the learned model parameters ($A$, $C_y$, $C_z$, etc) and some prediction, etc methods. There is more on the model structure later in this notebook.\n",
        "\n",
        "## Using the model for dimension reduction, state estimation, and decoding\n",
        "For a learned PSID model `idSys`, you can use the `predict` method to extract the latent state and predict behavior and neural activity given any new neural data as:\n",
        "```\n",
        "zPred, yPred, xPred = idSys.predict(yTest)\n",
        "```\n",
        "With the argument:\n",
        "- `yTest`: Neural activity `y` in the test data. Dimensions are: time x data dimension.\n",
        "\n",
        "And outputs (all dimensions are time x data dimension):\n",
        "- `zPred`: Prediction of behavior using past neural activity at each data point.\n",
        "- `yPred`: Prediction of neural activity using past neural activity at each data point.\n",
        "- `xPred`: The latent state extarcted at each data point.\n",
        "\n",
        "We will next go through a complete example of using PSID in data.\n",
        "\n",
        "# A complete example\n",
        "In this example, we will use PSID to model some data. First, we import PSID and a few other useful tools from PSID and other libraries."
      ]
    },
    {
      "cell_type": "code",
      "metadata": {
        "id": "bcBhkYe_Bt22"
      },
      "source": [
        "import argparse, sys, os\n",
        "sys.path.insert(0, os.path.join('..', '..'))\n",
        "\n",
        "import numpy as np\n",
        "import matplotlib.pyplot as plt\n",
        "from matplotlib import patches\n",
        "\n",
        "import PSID\n",
        "from PSID.evaluation import evalPrediction\n",
        "from PSID.MatHelper import loadmat"
      ],
      "execution_count": 2,
      "outputs": []
    },
    {
      "source": [
        "Let's start by loading an example model:"
      ],
      "cell_type": "markdown",
      "metadata": {}
    },
    {
      "cell_type": "code",
      "metadata": {
        "colab": {
          "base_uri": "https://localhost:8080/"
        },
        "id": "2DSKNITZB4r-",
        "outputId": "a33507ed-9df3-4041-d227-06b0e6317125"
      },
      "source": [
        "# Load data\n",
        "sample_model_path = os.path.join(os.path.dirname(PSID.__file__), 'example', 'sample_model.mat')\n",
        "                 \n",
        "print('Loading example model from {}'.format(sample_model_path))\n",
        "data = loadmat(sample_model_path)\n",
        "# This is an example model (shown in Supplementary Fig. 1) with \n",
        "# (a) 2 behaviorally relevant latent states, \n",
        "# (b) 2 behaviorally irrelevant latent states, and \n",
        "# (c) 2 states that drive behavior but are not represented in neural activity"
      ],
      "execution_count": 3,
      "outputs": [
        {
          "output_type": "stream",
          "name": "stdout",
          "text": [
            "Loading example model from ..\\..\\PSID\\example\\sample_model.mat\n"
          ]
        }
      ]
    },
    {
      "cell_type": "markdown",
      "metadata": {
        "id": "TKjZYzGV4Oya"
      },
      "source": [
        "The PSID model looks like this:\n",
        "\n",
        "$$ x_{k+1} = A x_k + w_k $$  \n",
        "\n",
        "$$ y_k = C_y x_k + v_k $$  \n",
        "\n",
        "$$ z_k = C_z x_k + \\epsilon_k $$  \n",
        "\n",
        "where $y_k \\in \\!R^{n_y}$ is the neural activity, $z_k \\in \\!R^{n_z}$ is the behavior, and $x_k \\in \\!R^{n_x}$ is the latent state the describes the dynamics in both. Note that in general $y_k$ and $z_k$ could also be any other two signals (e.g. brain activity from two regions or even non-neural signals), but here we will refer these signals as neural activity and behavior, respectively. Importantly, PSID learns the model in the following format\n",
        "\n",
        "$$\n",
        "x_k = \\begin{bmatrix}\n",
        "x_k^{(1)} \\\\\n",
        "x_k^{(2)}\n",
        "\\end{bmatrix}\n",
        "$$\n",
        "\n",
        "where the behaviorally relevant dimensions of latent state ($x_k^{(1)} \\in \\!R^{n_1}$), which are those that drive $z_k$, are separated from the other dimensions ($x_k^{(2)} \\in \\!R^{n_2}$ with $n_2=n_x-n_1$). There are many equivalent ways of writing a latent state model such as this one, but PSID learns the one that uses minimal number of dimensions to explain behavior as parsimoniously as possible (you can find the precise definition in the paper). Critically, PSID can learn this minimal model (with only $x_k^{(1)}$) without having to also learn the rest of the model (the $x_k^{(2)}$ part). This is the concept of prioritization and allows PSID to learn the model more accurately, while requiring fewer training samples.\n",
        "\n",
        "\n",
        "Before going further, let's generate some sample data from this model."
      ]
    },
    {
      "cell_type": "code",
      "metadata": {
        "id": "-9bAIpLC4LaE"
      },
      "source": [
        "# Generating some sample data from this model\r\n",
        "np.random.seed(42) # For exact reproducibility\r\n",
        "\r\n",
        "N = int(2e4)\r\n",
        "trueSys = PSID.LSSM(params=data['trueSys'])\r\n",
        "y, x = trueSys.generateRealization(N)\r\n",
        "z = (trueSys.Cz @ x.T).T\r\n",
        "\r\n",
        "# Add some z dynamics that are not encoded in y (i.e. epsilon)\r\n",
        "epsSys = PSID.LSSM(params=data['epsSys'])\r\n",
        "eps, _ = epsSys.generateRealization(N)\r\n",
        "z += eps\r\n",
        "\r\n",
        "allYData, allZData = y, z"
      ],
      "execution_count": 4,
      "outputs": []
    },
    {
      "cell_type": "markdown",
      "metadata": {
        "id": "CQWYLQuwGWGY"
      },
      "source": [
        "Let's separate the data into training and test segments."
      ]
    },
    {
      "cell_type": "code",
      "metadata": {
        "id": "eiefXAMyExUa"
      },
      "source": [
        "# Separate data into training and test data:\r\n",
        "trainInds = np.arange(np.round(0.5*allYData.shape[0]), dtype=int)\r\n",
        "testInds = np.arange(1+trainInds[-1], allYData.shape[0])\r\n",
        "yTrain = allYData[trainInds, :]\r\n",
        "yTest = allYData[testInds, :]\r\n",
        "zTrain = allZData[trainInds, :]\r\n",
        "zTest = allZData[testInds, :]"
      ],
      "execution_count": 5,
      "outputs": []
    },
    {
      "cell_type": "markdown",
      "metadata": {
        "id": "5_HZ9Xd_G7ew"
      },
      "source": [
        "We will next use PSID in two ways:  \n",
        "1. Learn a model with a low-dimensional latent state that only focuses on learning the behaviorally relevant neural dynamics (i.e. uses stage 1 of PSID only).  \n",
        "2. Learn a model that also learns other neural dynamics (i.e. uses both stages of PSID)\n",
        "\n",
        "We will then plot the learned models' eigenvalues (the eigenvalues of the $A$ matrix) to show that PSID learns the correct dynamics in each case.\n",
        "\n",
        "First, let's learn a model with a 2 dimensional latent state that only learns the behaviorally relevant neural dyanmics. For this, we pass the arguments nx=2 and n1=2 to the PSID function:"
      ]
    },
    {
      "cell_type": "code",
      "metadata": {
        "colab": {
          "base_uri": "https://localhost:8080/"
        },
        "id": "KeAWDK3sGfmr",
        "outputId": "39967d6f-e864-4236-8c87-8af7dd489f1e"
      },
      "source": [
        "## (Example 1) PSID can be used to dissociate and extract only the \n",
        "# behaviorally relevant latent states (with nx = n1 = 2)\n",
        "idSys1 = PSID.PSID(yTrain, zTrain, nx=2, n1=2, i=10)\n",
        "# You can also use the time_first=False argument if time is the second dimension:\n",
        "# idSys1 = PSID.PSID(yTrain.T, zTrain.T, nx=2, n1=2, i=10, time_first=False) "
      ],
      "execution_count": 6,
      "outputs": []
    },
    {
      "source": [
        "The PSID learning function returns an object (here idSys1) that contains the learned model parameters and can be used to extract the latent states and decode behavior in new data. To do this, we use the 'predict' method in the learned model:"
      ],
      "cell_type": "markdown",
      "metadata": {}
    },
    {
      "cell_type": "code",
      "execution_count": 7,
      "metadata": {},
      "outputs": [
        {
          "output_type": "stream",
          "name": "stdout",
          "text": [
            "Behavior decoding CC:\n  PSID => 0.643, Ideal using true model => 0.643\n"
          ]
        }
      ],
      "source": [
        "# Predict behavior using the learned model\n",
        "zTestPred1, yTestPred1, xTestPred1 = idSys1.predict(yTest)\n",
        "\n",
        "# Compute CC of decoding\n",
        "CC = evalPrediction(zTest, zTestPred1, 'CC')\n",
        "\n",
        "# Predict behavior using the true model for comparison\n",
        "zTestPredIdeal, yTestPredIdeal, xTestPredIdeal = trueSys.predict(yTest)\n",
        "CCIdeal = evalPrediction(zTest, zTestPredIdeal, 'CC')\n",
        "\n",
        "print('Behavior decoding CC:\\n  PSID => {:.3g}, Ideal using true model => {:.3g}'.format(np.mean(CC), np.mean(CCIdeal)) )"
      ]
    },
    {
      "cell_type": "markdown",
      "metadata": {
        "id": "LfhHQ3hQKkeq"
      },
      "source": [
        "We can see that the PSID model with a 2D latent state is as accurate in explaining behavior as the full model that has a 4D latent state. This is because the other 2 latent state dimensions in the true model explain dynamics that are exclusive to neural activity (i.e. are not behaviorally relevant).\n",
        "\n",
        "Optionally, PSID can also learn other latent states beyond the behaviorally relevant ones. For this, we pass the arguments nx=4 and n1=2 to the PSID function:"
      ]
    },
    {
      "cell_type": "code",
      "metadata": {
        "colab": {
          "base_uri": "https://localhost:8080/"
        },
        "id": "a2chTfdSKW5d",
        "outputId": "2ad2af37-c80b-4a1b-dfba-9039a56ce8e0"
      },
      "source": [
        "## (Example 2) Optionally, PSID can additionally also learn the \r\n",
        "# behaviorally irrelevant latent states (with nx = 4, n1 = 2)\r\n",
        "idSys2 = PSID.PSID(yTrain, zTrain, nx=4, n1=2, i=10)\r\n",
        "\r\n",
        "# In addition to ideal behavior decoding, this model will also have ideal neural self-prediction \r\n",
        "zTestPred2, yTestPred2, xTestPred2 = idSys2.predict(yTest)\r\n",
        "yCC2 = evalPrediction(yTest, yTestPred2, 'CC')\r\n",
        "yCCIdeal = evalPrediction(yTest, yTestPredIdeal, 'CC')\r\n",
        "print('Neural self-prediction CC:\\n  PSID => {:.3g}, Ideal using true model => {:.3g}'.format(np.mean(yCC2), np.mean(yCCIdeal)))"
      ],
      "execution_count": 8,
      "outputs": [
        {
          "output_type": "stream",
          "name": "stdout",
          "text": [
            "Neural self-prediction CC:\n  PSID => 0.852, Ideal using true model => 0.852\n"
          ]
        }
      ]
    },
    {
      "cell_type": "markdown",
      "metadata": {
        "id": "LDvqwXjRLKgj"
      },
      "source": [
        "We can see that in this case, the model learned by PSID (which now has a 4D latent state) is also as good as the true model in terms of explaining neural activity. \n",
        "\n",
        "\n",
        "Finally, we can plot the eigenvalues of the $A$ matrix in each of the learned models and compare them with the eigenvalues of the $A$ matrix in the true model to see the accurate learning of behaviorally relevant (and optionally the other) dynamics by PSID. "
      ]
    },
    {
      "cell_type": "code",
      "metadata": {
        "colab": {
          "base_uri": "https://localhost:8080/",
          "height": 281
        },
        "id": "rglPnehvLJ-2",
        "outputId": "57690508-4203-4361-bd15-25056eff6395"
      },
      "source": [
        "# #########################################\r\n",
        "# Plot the true and identified eigenvalues    \r\n",
        "\r\n",
        "# (Example 1) Eigenvalues when only learning behaviorally relevant states\r\n",
        "idEigs1 = np.linalg.eig(idSys1.A)[0]\r\n",
        "\r\n",
        "# (Example 2) Additional eigenvalues when also learning behaviorally irrelevant states\r\n",
        "# The identified model is already in form of Eq. 4, with behaviorally irrelevant states \r\n",
        "# coming as the last 2 dimensions of the states in the identified model\r\n",
        "idEigs2 = np.linalg.eig(idSys2.A[2:, 2:])[0]\r\n",
        "\r\n",
        "relevantDims = trueSys.zDims - 1 # Dimensions that drive both behavior and neural activity\r\n",
        "irrelevantDims = [x for x in np.arange(trueSys.state_dim, dtype=int) if x not in relevantDims] # Dimensions that only drive the neural activity\r\n",
        "trueEigsRelevant = np.linalg.eig(trueSys.A[np.ix_(relevantDims, relevantDims)])[0]\r\n",
        "trueEigsIrrelevant = np.linalg.eig(trueSys.A[np.ix_(irrelevantDims, irrelevantDims)])[0]\r\n",
        "nonEncodedEigs = np.linalg.eig(data['epsSys']['a'])[0] # Eigenvalues for states that only drive behavior\r\n",
        "\r\n",
        "fig = plt.figure(figsize=(8, 4))\r\n",
        "axs = fig.subplots(1, 2)\r\n",
        "axs[1].remove() \r\n",
        "ax = axs[0]\r\n",
        "ax.axis('equal')\r\n",
        "ax.add_patch( patches.Circle((0,0), radius=1, fill=False, color='black', alpha=0.2, ls='-') )\r\n",
        "ax.plot([-1,1,0,0,0], [0,0,0,-1,1], color='black', alpha=0.2, ls='-')\r\n",
        "ax.scatter(np.real(nonEncodedEigs), np.imag(nonEncodedEigs), marker='o', edgecolors='#0000ff', facecolors='none', label='Not encoded in neural signals')\r\n",
        "ax.scatter(np.real(trueEigsIrrelevant), np.imag(trueEigsIrrelevant), marker='o', edgecolors='#ff0000', facecolors='none', label='Behaviorally irrelevant')\r\n",
        "ax.scatter(np.real(trueEigsRelevant), np.imag(trueEigsRelevant), marker='o', edgecolors='#00ff00', facecolors='none', label='Behaviorally relevant')\r\n",
        "ax.scatter(np.real(idEigs1), np.imag(idEigs1), marker='x', facecolors='#00aa00', label='PSID Identified (stage 1)')\r\n",
        "ax.scatter(np.real(idEigs2), np.imag(idEigs2), marker='x', facecolors='#aa0000', label='(optional) PSID Identified (stage 2)')\r\n",
        "ax.set_title('True and identified eigevalues')\r\n",
        "ax.legend(bbox_to_anchor=(1.04,0.5), loc=\"center left\", borderaxespad=0)\r\n",
        "plt.show()"
      ],
      "execution_count": 9,
      "outputs": [
        {
          "output_type": "display_data",
          "data": {
            "text/plain": "<Figure size 576x288 with 1 Axes>",
            "image/svg+xml": "<?xml version=\"1.0\" encoding=\"utf-8\" standalone=\"no\"?>\r\n<!DOCTYPE svg PUBLIC \"-//W3C//DTD SVG 1.1//EN\"\r\n  \"http://www.w3.org/Graphics/SVG/1.1/DTD/svg11.dtd\">\r\n<!-- Created with matplotlib (https://matplotlib.org/) -->\r\n<svg height=\"263.63625pt\" version=\"1.1\" viewBox=\"0 0 465.992642 263.63625\" width=\"465.992642pt\" xmlns=\"http://www.w3.org/2000/svg\" xmlns:xlink=\"http://www.w3.org/1999/xlink\">\r\n <defs>\r\n  <style type=\"text/css\">\r\n*{stroke-linecap:butt;stroke-linejoin:round;}\r\n  </style>\r\n </defs>\r\n <g id=\"figure_1\">\r\n  <g id=\"patch_1\">\r\n   <path d=\"M 0 263.63625 \r\nL 465.992642 263.63625 \r\nL 465.992642 0 \r\nL 0 0 \r\nz\r\n\" style=\"fill:none;\"/>\r\n  </g>\r\n  <g id=\"axes_1\">\r\n   <g id=\"patch_2\">\r\n    <path d=\"M 38.482813 239.758125 \r\nL 241.391903 239.758125 \r\nL 241.391903 22.318125 \r\nL 38.482813 22.318125 \r\nz\r\n\" style=\"fill:#ffffff;\"/>\r\n   </g>\r\n   <g id=\"PathCollection_1\">\r\n    <defs>\r\n     <path d=\"M 0 3 \r\nC 0.795609 3 1.55874 2.683901 2.12132 2.12132 \r\nC 2.683901 1.55874 3 0.795609 3 0 \r\nC 3 -0.795609 2.683901 -1.55874 2.12132 -2.12132 \r\nC 1.55874 -2.683901 0.795609 -3 0 -3 \r\nC -0.795609 -3 -1.55874 -2.683901 -2.12132 -2.12132 \r\nC -2.683901 -1.55874 -3 -0.795609 -3 0 \r\nC -3 0.795609 -2.683901 1.55874 -2.12132 2.12132 \r\nC -1.55874 2.683901 -0.795609 3 0 3 \r\nz\r\n\" id=\"C0_0_f59b4c459b\"/>\r\n    </defs>\r\n    <g clip-path=\"url(#pbc1f94c879)\">\r\n     <use style=\"fill:none;stroke:#0000ff;\" x=\"77.980779\" xlink:href=\"#C0_0_f59b4c459b\" y=\"69.081546\"/>\r\n    </g>\r\n    <g clip-path=\"url(#pbc1f94c879)\">\r\n     <use style=\"fill:none;stroke:#0000ff;\" x=\"77.980779\" xlink:href=\"#C0_0_f59b4c459b\" y=\"192.994704\"/>\r\n    </g>\r\n   </g>\r\n   <g id=\"PathCollection_2\">\r\n    <defs>\r\n     <path d=\"M 0 3 \r\nC 0.795609 3 1.55874 2.683901 2.12132 2.12132 \r\nC 2.683901 1.55874 3 0.795609 3 0 \r\nC 3 -0.795609 2.683901 -1.55874 2.12132 -2.12132 \r\nC 1.55874 -2.683901 0.795609 -3 0 -3 \r\nC -0.795609 -3 -1.55874 -2.683901 -2.12132 -2.12132 \r\nC -2.683901 -1.55874 -3 -0.795609 -3 0 \r\nC -3 0.795609 -2.683901 1.55874 -2.12132 2.12132 \r\nC -1.55874 2.683901 -0.795609 3 0 3 \r\nz\r\n\" id=\"C1_0_0ceece8b14\"/>\r\n    </defs>\r\n    <g clip-path=\"url(#pbc1f94c879)\">\r\n     <use style=\"fill:none;stroke:#ff0000;\" x=\"139.937358\" xlink:href=\"#C1_0_0ceece8b14\" y=\"44.340604\"/>\r\n    </g>\r\n    <g clip-path=\"url(#pbc1f94c879)\">\r\n     <use style=\"fill:none;stroke:#ff0000;\" x=\"139.937358\" xlink:href=\"#C1_0_0ceece8b14\" y=\"217.735646\"/>\r\n    </g>\r\n   </g>\r\n   <g id=\"PathCollection_3\">\r\n    <defs>\r\n     <path d=\"M 0 3 \r\nC 0.795609 3 1.55874 2.683901 2.12132 2.12132 \r\nC 2.683901 1.55874 3 0.795609 3 0 \r\nC 3 -0.795609 2.683901 -1.55874 2.12132 -2.12132 \r\nC 1.55874 -2.683901 0.795609 -3 0 -3 \r\nC -0.795609 -3 -1.55874 -2.683901 -2.12132 -2.12132 \r\nC -2.683901 -1.55874 -3 -0.795609 -3 0 \r\nC -3 0.795609 -2.683901 1.55874 -2.12132 2.12132 \r\nC -1.55874 2.683901 -0.795609 3 0 3 \r\nz\r\n\" id=\"C2_0_b4f681b4db\"/>\r\n    </defs>\r\n    <g clip-path=\"url(#pbc1f94c879)\">\r\n     <use style=\"fill:none;stroke:#00ff00;\" x=\"222.344402\" xlink:href=\"#C2_0_b4f681b4db\" y=\"108.957224\"/>\r\n    </g>\r\n    <g clip-path=\"url(#pbc1f94c879)\">\r\n     <use style=\"fill:none;stroke:#00ff00;\" x=\"222.344402\" xlink:href=\"#C2_0_b4f681b4db\" y=\"153.119026\"/>\r\n    </g>\r\n   </g>\r\n   <g id=\"PathCollection_4\">\r\n    <defs>\r\n     <path d=\"M -3 3 \r\nL 3 -3 \r\nM -3 -3 \r\nL 3 3 \r\n\" id=\"m6ffabd8df7\" style=\"stroke:#00aa00;stroke-width:1.5;\"/>\r\n    </defs>\r\n    <g clip-path=\"url(#pbc1f94c879)\">\r\n     <use style=\"fill:#00aa00;stroke:#00aa00;stroke-width:1.5;\" x=\"222.41776\" xlink:href=\"#m6ffabd8df7\" y=\"109.360739\"/>\r\n     <use style=\"fill:#00aa00;stroke:#00aa00;stroke-width:1.5;\" x=\"222.41776\" xlink:href=\"#m6ffabd8df7\" y=\"152.715511\"/>\r\n    </g>\r\n   </g>\r\n   <g id=\"PathCollection_5\">\r\n    <defs>\r\n     <path d=\"M -3 3 \r\nL 3 -3 \r\nM -3 -3 \r\nL 3 3 \r\n\" id=\"maa80f129cd\" style=\"stroke:#aa0000;stroke-width:1.5;\"/>\r\n    </defs>\r\n    <g clip-path=\"url(#pbc1f94c879)\">\r\n     <use style=\"fill:#aa0000;stroke:#aa0000;stroke-width:1.5;\" x=\"140.160397\" xlink:href=\"#maa80f129cd\" y=\"44.61316\"/>\r\n     <use style=\"fill:#aa0000;stroke:#aa0000;stroke-width:1.5;\" x=\"140.160397\" xlink:href=\"#maa80f129cd\" y=\"217.46309\"/>\r\n    </g>\r\n   </g>\r\n   <g id=\"patch_3\">\r\n    <path clip-path=\"url(#pbc1f94c879)\" d=\"M 139.937358 223.26953 \r\nC 164.397412 223.26953 187.858939 213.551447 205.15481 196.255577 \r\nC 222.45068 178.959706 232.168763 155.49818 232.168763 131.038125 \r\nC 232.168763 106.57807 222.45068 83.116544 205.15481 65.820673 \r\nC 187.858939 48.524803 164.397412 38.80672 139.937358 38.80672 \r\nC 115.477303 38.80672 92.015776 48.524803 74.719906 65.820673 \r\nC 57.424036 83.116544 47.705953 106.57807 47.705953 131.038125 \r\nC 47.705953 155.49818 57.424036 178.959706 74.719906 196.255577 \r\nC 92.015776 213.551447 115.477303 223.26953 139.937358 223.26953 \r\nz\r\n\" style=\"fill:none;opacity:0.2;stroke:#000000;stroke-linejoin:miter;\"/>\r\n   </g>\r\n   <g id=\"matplotlib.axis_1\">\r\n    <g id=\"xtick_1\">\r\n     <g id=\"line2d_1\">\r\n      <defs>\r\n       <path d=\"M 0 0 \r\nL 0 3.5 \r\n\" id=\"mf5f8b4edf2\" style=\"stroke:#000000;stroke-width:0.8;\"/>\r\n      </defs>\r\n      <g>\r\n       <use style=\"stroke:#000000;stroke-width:0.8;\" x=\"47.705953\" xlink:href=\"#mf5f8b4edf2\" y=\"239.758125\"/>\r\n      </g>\r\n     </g>\r\n     <g id=\"text_1\">\r\n      <!-- −1.0 -->\r\n      <defs>\r\n       <path d=\"M 10.59375 35.5 \r\nL 73.1875 35.5 \r\nL 73.1875 27.203125 \r\nL 10.59375 27.203125 \r\nz\r\n\" id=\"DejaVuSans-8722\"/>\r\n       <path d=\"M 12.40625 8.296875 \r\nL 28.515625 8.296875 \r\nL 28.515625 63.921875 \r\nL 10.984375 60.40625 \r\nL 10.984375 69.390625 \r\nL 28.421875 72.90625 \r\nL 38.28125 72.90625 \r\nL 38.28125 8.296875 \r\nL 54.390625 8.296875 \r\nL 54.390625 0 \r\nL 12.40625 0 \r\nz\r\n\" id=\"DejaVuSans-49\"/>\r\n       <path d=\"M 10.6875 12.40625 \r\nL 21 12.40625 \r\nL 21 0 \r\nL 10.6875 0 \r\nz\r\n\" id=\"DejaVuSans-46\"/>\r\n       <path d=\"M 31.78125 66.40625 \r\nQ 24.171875 66.40625 20.328125 58.90625 \r\nQ 16.5 51.421875 16.5 36.375 \r\nQ 16.5 21.390625 20.328125 13.890625 \r\nQ 24.171875 6.390625 31.78125 6.390625 \r\nQ 39.453125 6.390625 43.28125 13.890625 \r\nQ 47.125 21.390625 47.125 36.375 \r\nQ 47.125 51.421875 43.28125 58.90625 \r\nQ 39.453125 66.40625 31.78125 66.40625 \r\nz\r\nM 31.78125 74.21875 \r\nQ 44.046875 74.21875 50.515625 64.515625 \r\nQ 56.984375 54.828125 56.984375 36.375 \r\nQ 56.984375 17.96875 50.515625 8.265625 \r\nQ 44.046875 -1.421875 31.78125 -1.421875 \r\nQ 19.53125 -1.421875 13.0625 8.265625 \r\nQ 6.59375 17.96875 6.59375 36.375 \r\nQ 6.59375 54.828125 13.0625 64.515625 \r\nQ 19.53125 74.21875 31.78125 74.21875 \r\nz\r\n\" id=\"DejaVuSans-48\"/>\r\n      </defs>\r\n      <g transform=\"translate(35.564547 254.356563)scale(0.1 -0.1)\">\r\n       <use xlink:href=\"#DejaVuSans-8722\"/>\r\n       <use x=\"83.789062\" xlink:href=\"#DejaVuSans-49\"/>\r\n       <use x=\"147.412109\" xlink:href=\"#DejaVuSans-46\"/>\r\n       <use x=\"179.199219\" xlink:href=\"#DejaVuSans-48\"/>\r\n      </g>\r\n     </g>\r\n    </g>\r\n    <g id=\"xtick_2\">\r\n     <g id=\"line2d_2\">\r\n      <g>\r\n       <use style=\"stroke:#000000;stroke-width:0.8;\" x=\"93.821655\" xlink:href=\"#mf5f8b4edf2\" y=\"239.758125\"/>\r\n      </g>\r\n     </g>\r\n     <g id=\"text_2\">\r\n      <!-- −0.5 -->\r\n      <defs>\r\n       <path d=\"M 10.796875 72.90625 \r\nL 49.515625 72.90625 \r\nL 49.515625 64.59375 \r\nL 19.828125 64.59375 \r\nL 19.828125 46.734375 \r\nQ 21.96875 47.46875 24.109375 47.828125 \r\nQ 26.265625 48.1875 28.421875 48.1875 \r\nQ 40.625 48.1875 47.75 41.5 \r\nQ 54.890625 34.8125 54.890625 23.390625 \r\nQ 54.890625 11.625 47.5625 5.09375 \r\nQ 40.234375 -1.421875 26.90625 -1.421875 \r\nQ 22.3125 -1.421875 17.546875 -0.640625 \r\nQ 12.796875 0.140625 7.71875 1.703125 \r\nL 7.71875 11.625 \r\nQ 12.109375 9.234375 16.796875 8.0625 \r\nQ 21.484375 6.890625 26.703125 6.890625 \r\nQ 35.15625 6.890625 40.078125 11.328125 \r\nQ 45.015625 15.765625 45.015625 23.390625 \r\nQ 45.015625 31 40.078125 35.4375 \r\nQ 35.15625 39.890625 26.703125 39.890625 \r\nQ 22.75 39.890625 18.8125 39.015625 \r\nQ 14.890625 38.140625 10.796875 36.28125 \r\nz\r\n\" id=\"DejaVuSans-53\"/>\r\n      </defs>\r\n      <g transform=\"translate(81.680249 254.356563)scale(0.1 -0.1)\">\r\n       <use xlink:href=\"#DejaVuSans-8722\"/>\r\n       <use x=\"83.789062\" xlink:href=\"#DejaVuSans-48\"/>\r\n       <use x=\"147.412109\" xlink:href=\"#DejaVuSans-46\"/>\r\n       <use x=\"179.199219\" xlink:href=\"#DejaVuSans-53\"/>\r\n      </g>\r\n     </g>\r\n    </g>\r\n    <g id=\"xtick_3\">\r\n     <g id=\"line2d_3\">\r\n      <g>\r\n       <use style=\"stroke:#000000;stroke-width:0.8;\" x=\"139.937358\" xlink:href=\"#mf5f8b4edf2\" y=\"239.758125\"/>\r\n      </g>\r\n     </g>\r\n     <g id=\"text_3\">\r\n      <!-- 0.0 -->\r\n      <g transform=\"translate(131.985795 254.356563)scale(0.1 -0.1)\">\r\n       <use xlink:href=\"#DejaVuSans-48\"/>\r\n       <use x=\"63.623047\" xlink:href=\"#DejaVuSans-46\"/>\r\n       <use x=\"95.410156\" xlink:href=\"#DejaVuSans-48\"/>\r\n      </g>\r\n     </g>\r\n    </g>\r\n    <g id=\"xtick_4\">\r\n     <g id=\"line2d_4\">\r\n      <g>\r\n       <use style=\"stroke:#000000;stroke-width:0.8;\" x=\"186.05306\" xlink:href=\"#mf5f8b4edf2\" y=\"239.758125\"/>\r\n      </g>\r\n     </g>\r\n     <g id=\"text_4\">\r\n      <!-- 0.5 -->\r\n      <g transform=\"translate(178.101498 254.356563)scale(0.1 -0.1)\">\r\n       <use xlink:href=\"#DejaVuSans-48\"/>\r\n       <use x=\"63.623047\" xlink:href=\"#DejaVuSans-46\"/>\r\n       <use x=\"95.410156\" xlink:href=\"#DejaVuSans-53\"/>\r\n      </g>\r\n     </g>\r\n    </g>\r\n    <g id=\"xtick_5\">\r\n     <g id=\"line2d_5\">\r\n      <g>\r\n       <use style=\"stroke:#000000;stroke-width:0.8;\" x=\"232.168763\" xlink:href=\"#mf5f8b4edf2\" y=\"239.758125\"/>\r\n      </g>\r\n     </g>\r\n     <g id=\"text_5\">\r\n      <!-- 1.0 -->\r\n      <g transform=\"translate(224.2172 254.356563)scale(0.1 -0.1)\">\r\n       <use xlink:href=\"#DejaVuSans-49\"/>\r\n       <use x=\"63.623047\" xlink:href=\"#DejaVuSans-46\"/>\r\n       <use x=\"95.410156\" xlink:href=\"#DejaVuSans-48\"/>\r\n      </g>\r\n     </g>\r\n    </g>\r\n   </g>\r\n   <g id=\"matplotlib.axis_2\">\r\n    <g id=\"ytick_1\">\r\n     <g id=\"line2d_6\">\r\n      <defs>\r\n       <path d=\"M 0 0 \r\nL -3.5 0 \r\n\" id=\"m8334778342\" style=\"stroke:#000000;stroke-width:0.8;\"/>\r\n      </defs>\r\n      <g>\r\n       <use style=\"stroke:#000000;stroke-width:0.8;\" x=\"38.482813\" xlink:href=\"#m8334778342\" y=\"223.26953\"/>\r\n      </g>\r\n     </g>\r\n     <g id=\"text_6\">\r\n      <!-- −1.0 -->\r\n      <g transform=\"translate(7.2 227.068749)scale(0.1 -0.1)\">\r\n       <use xlink:href=\"#DejaVuSans-8722\"/>\r\n       <use x=\"83.789062\" xlink:href=\"#DejaVuSans-49\"/>\r\n       <use x=\"147.412109\" xlink:href=\"#DejaVuSans-46\"/>\r\n       <use x=\"179.199219\" xlink:href=\"#DejaVuSans-48\"/>\r\n      </g>\r\n     </g>\r\n    </g>\r\n    <g id=\"ytick_2\">\r\n     <g id=\"line2d_7\">\r\n      <g>\r\n       <use style=\"stroke:#000000;stroke-width:0.8;\" x=\"38.482813\" xlink:href=\"#m8334778342\" y=\"177.153827\"/>\r\n      </g>\r\n     </g>\r\n     <g id=\"text_7\">\r\n      <!-- −0.5 -->\r\n      <g transform=\"translate(7.2 180.953046)scale(0.1 -0.1)\">\r\n       <use xlink:href=\"#DejaVuSans-8722\"/>\r\n       <use x=\"83.789062\" xlink:href=\"#DejaVuSans-48\"/>\r\n       <use x=\"147.412109\" xlink:href=\"#DejaVuSans-46\"/>\r\n       <use x=\"179.199219\" xlink:href=\"#DejaVuSans-53\"/>\r\n      </g>\r\n     </g>\r\n    </g>\r\n    <g id=\"ytick_3\">\r\n     <g id=\"line2d_8\">\r\n      <g>\r\n       <use style=\"stroke:#000000;stroke-width:0.8;\" x=\"38.482813\" xlink:href=\"#m8334778342\" y=\"131.038125\"/>\r\n      </g>\r\n     </g>\r\n     <g id=\"text_8\">\r\n      <!-- 0.0 -->\r\n      <g transform=\"translate(15.579688 134.837344)scale(0.1 -0.1)\">\r\n       <use xlink:href=\"#DejaVuSans-48\"/>\r\n       <use x=\"63.623047\" xlink:href=\"#DejaVuSans-46\"/>\r\n       <use x=\"95.410156\" xlink:href=\"#DejaVuSans-48\"/>\r\n      </g>\r\n     </g>\r\n    </g>\r\n    <g id=\"ytick_4\">\r\n     <g id=\"line2d_9\">\r\n      <g>\r\n       <use style=\"stroke:#000000;stroke-width:0.8;\" x=\"38.482813\" xlink:href=\"#m8334778342\" y=\"84.922423\"/>\r\n      </g>\r\n     </g>\r\n     <g id=\"text_9\">\r\n      <!-- 0.5 -->\r\n      <g transform=\"translate(15.579688 88.721641)scale(0.1 -0.1)\">\r\n       <use xlink:href=\"#DejaVuSans-48\"/>\r\n       <use x=\"63.623047\" xlink:href=\"#DejaVuSans-46\"/>\r\n       <use x=\"95.410156\" xlink:href=\"#DejaVuSans-53\"/>\r\n      </g>\r\n     </g>\r\n    </g>\r\n    <g id=\"ytick_5\">\r\n     <g id=\"line2d_10\">\r\n      <g>\r\n       <use style=\"stroke:#000000;stroke-width:0.8;\" x=\"38.482813\" xlink:href=\"#m8334778342\" y=\"38.80672\"/>\r\n      </g>\r\n     </g>\r\n     <g id=\"text_10\">\r\n      <!-- 1.0 -->\r\n      <g transform=\"translate(15.579688 42.605939)scale(0.1 -0.1)\">\r\n       <use xlink:href=\"#DejaVuSans-49\"/>\r\n       <use x=\"63.623047\" xlink:href=\"#DejaVuSans-46\"/>\r\n       <use x=\"95.410156\" xlink:href=\"#DejaVuSans-48\"/>\r\n      </g>\r\n     </g>\r\n    </g>\r\n   </g>\r\n   <g id=\"line2d_11\">\r\n    <path clip-path=\"url(#pbc1f94c879)\" d=\"M 47.705953 131.038125 \r\nL 232.168763 131.038125 \r\nL 139.937358 131.038125 \r\nL 139.937358 223.26953 \r\nL 139.937358 38.80672 \r\n\" style=\"fill:none;stroke:#000000;stroke-linecap:square;stroke-opacity:0.2;stroke-width:1.5;\"/>\r\n   </g>\r\n   <g id=\"patch_4\">\r\n    <path d=\"M 38.482813 239.758125 \r\nL 38.482813 22.318125 \r\n\" style=\"fill:none;stroke:#000000;stroke-linecap:square;stroke-linejoin:miter;stroke-width:0.8;\"/>\r\n   </g>\r\n   <g id=\"patch_5\">\r\n    <path d=\"M 241.391903 239.758125 \r\nL 241.391903 22.318125 \r\n\" style=\"fill:none;stroke:#000000;stroke-linecap:square;stroke-linejoin:miter;stroke-width:0.8;\"/>\r\n   </g>\r\n   <g id=\"patch_6\">\r\n    <path d=\"M 38.482813 239.758125 \r\nL 241.391903 239.758125 \r\n\" style=\"fill:none;stroke:#000000;stroke-linecap:square;stroke-linejoin:miter;stroke-width:0.8;\"/>\r\n   </g>\r\n   <g id=\"patch_7\">\r\n    <path d=\"M 38.482813 22.318125 \r\nL 241.391903 22.318125 \r\n\" style=\"fill:none;stroke:#000000;stroke-linecap:square;stroke-linejoin:miter;stroke-width:0.8;\"/>\r\n   </g>\r\n   <g id=\"text_11\">\r\n    <!-- True and identified eigevalues -->\r\n    <defs>\r\n     <path d=\"M -0.296875 72.90625 \r\nL 61.375 72.90625 \r\nL 61.375 64.59375 \r\nL 35.5 64.59375 \r\nL 35.5 0 \r\nL 25.59375 0 \r\nL 25.59375 64.59375 \r\nL -0.296875 64.59375 \r\nz\r\n\" id=\"DejaVuSans-84\"/>\r\n     <path d=\"M 41.109375 46.296875 \r\nQ 39.59375 47.171875 37.8125 47.578125 \r\nQ 36.03125 48 33.890625 48 \r\nQ 26.265625 48 22.1875 43.046875 \r\nQ 18.109375 38.09375 18.109375 28.8125 \r\nL 18.109375 0 \r\nL 9.078125 0 \r\nL 9.078125 54.6875 \r\nL 18.109375 54.6875 \r\nL 18.109375 46.1875 \r\nQ 20.953125 51.171875 25.484375 53.578125 \r\nQ 30.03125 56 36.53125 56 \r\nQ 37.453125 56 38.578125 55.875 \r\nQ 39.703125 55.765625 41.0625 55.515625 \r\nz\r\n\" id=\"DejaVuSans-114\"/>\r\n     <path d=\"M 8.5 21.578125 \r\nL 8.5 54.6875 \r\nL 17.484375 54.6875 \r\nL 17.484375 21.921875 \r\nQ 17.484375 14.15625 20.5 10.265625 \r\nQ 23.53125 6.390625 29.59375 6.390625 \r\nQ 36.859375 6.390625 41.078125 11.03125 \r\nQ 45.3125 15.671875 45.3125 23.6875 \r\nL 45.3125 54.6875 \r\nL 54.296875 54.6875 \r\nL 54.296875 0 \r\nL 45.3125 0 \r\nL 45.3125 8.40625 \r\nQ 42.046875 3.421875 37.71875 1 \r\nQ 33.40625 -1.421875 27.6875 -1.421875 \r\nQ 18.265625 -1.421875 13.375 4.4375 \r\nQ 8.5 10.296875 8.5 21.578125 \r\nz\r\nM 31.109375 56 \r\nz\r\n\" id=\"DejaVuSans-117\"/>\r\n     <path d=\"M 56.203125 29.59375 \r\nL 56.203125 25.203125 \r\nL 14.890625 25.203125 \r\nQ 15.484375 15.921875 20.484375 11.0625 \r\nQ 25.484375 6.203125 34.421875 6.203125 \r\nQ 39.59375 6.203125 44.453125 7.46875 \r\nQ 49.3125 8.734375 54.109375 11.28125 \r\nL 54.109375 2.78125 \r\nQ 49.265625 0.734375 44.1875 -0.34375 \r\nQ 39.109375 -1.421875 33.890625 -1.421875 \r\nQ 20.796875 -1.421875 13.15625 6.1875 \r\nQ 5.515625 13.8125 5.515625 26.8125 \r\nQ 5.515625 40.234375 12.765625 48.109375 \r\nQ 20.015625 56 32.328125 56 \r\nQ 43.359375 56 49.78125 48.890625 \r\nQ 56.203125 41.796875 56.203125 29.59375 \r\nz\r\nM 47.21875 32.234375 \r\nQ 47.125 39.59375 43.09375 43.984375 \r\nQ 39.0625 48.390625 32.421875 48.390625 \r\nQ 24.90625 48.390625 20.390625 44.140625 \r\nQ 15.875 39.890625 15.1875 32.171875 \r\nz\r\n\" id=\"DejaVuSans-101\"/>\r\n     <path id=\"DejaVuSans-32\"/>\r\n     <path d=\"M 34.28125 27.484375 \r\nQ 23.390625 27.484375 19.1875 25 \r\nQ 14.984375 22.515625 14.984375 16.5 \r\nQ 14.984375 11.71875 18.140625 8.90625 \r\nQ 21.296875 6.109375 26.703125 6.109375 \r\nQ 34.1875 6.109375 38.703125 11.40625 \r\nQ 43.21875 16.703125 43.21875 25.484375 \r\nL 43.21875 27.484375 \r\nz\r\nM 52.203125 31.203125 \r\nL 52.203125 0 \r\nL 43.21875 0 \r\nL 43.21875 8.296875 \r\nQ 40.140625 3.328125 35.546875 0.953125 \r\nQ 30.953125 -1.421875 24.3125 -1.421875 \r\nQ 15.921875 -1.421875 10.953125 3.296875 \r\nQ 6 8.015625 6 15.921875 \r\nQ 6 25.140625 12.171875 29.828125 \r\nQ 18.359375 34.515625 30.609375 34.515625 \r\nL 43.21875 34.515625 \r\nL 43.21875 35.40625 \r\nQ 43.21875 41.609375 39.140625 45 \r\nQ 35.0625 48.390625 27.6875 48.390625 \r\nQ 23 48.390625 18.546875 47.265625 \r\nQ 14.109375 46.140625 10.015625 43.890625 \r\nL 10.015625 52.203125 \r\nQ 14.9375 54.109375 19.578125 55.046875 \r\nQ 24.21875 56 28.609375 56 \r\nQ 40.484375 56 46.34375 49.84375 \r\nQ 52.203125 43.703125 52.203125 31.203125 \r\nz\r\n\" id=\"DejaVuSans-97\"/>\r\n     <path d=\"M 54.890625 33.015625 \r\nL 54.890625 0 \r\nL 45.90625 0 \r\nL 45.90625 32.71875 \r\nQ 45.90625 40.484375 42.875 44.328125 \r\nQ 39.84375 48.1875 33.796875 48.1875 \r\nQ 26.515625 48.1875 22.3125 43.546875 \r\nQ 18.109375 38.921875 18.109375 30.90625 \r\nL 18.109375 0 \r\nL 9.078125 0 \r\nL 9.078125 54.6875 \r\nL 18.109375 54.6875 \r\nL 18.109375 46.1875 \r\nQ 21.34375 51.125 25.703125 53.5625 \r\nQ 30.078125 56 35.796875 56 \r\nQ 45.21875 56 50.046875 50.171875 \r\nQ 54.890625 44.34375 54.890625 33.015625 \r\nz\r\n\" id=\"DejaVuSans-110\"/>\r\n     <path d=\"M 45.40625 46.390625 \r\nL 45.40625 75.984375 \r\nL 54.390625 75.984375 \r\nL 54.390625 0 \r\nL 45.40625 0 \r\nL 45.40625 8.203125 \r\nQ 42.578125 3.328125 38.25 0.953125 \r\nQ 33.9375 -1.421875 27.875 -1.421875 \r\nQ 17.96875 -1.421875 11.734375 6.484375 \r\nQ 5.515625 14.40625 5.515625 27.296875 \r\nQ 5.515625 40.1875 11.734375 48.09375 \r\nQ 17.96875 56 27.875 56 \r\nQ 33.9375 56 38.25 53.625 \r\nQ 42.578125 51.265625 45.40625 46.390625 \r\nz\r\nM 14.796875 27.296875 \r\nQ 14.796875 17.390625 18.875 11.75 \r\nQ 22.953125 6.109375 30.078125 6.109375 \r\nQ 37.203125 6.109375 41.296875 11.75 \r\nQ 45.40625 17.390625 45.40625 27.296875 \r\nQ 45.40625 37.203125 41.296875 42.84375 \r\nQ 37.203125 48.484375 30.078125 48.484375 \r\nQ 22.953125 48.484375 18.875 42.84375 \r\nQ 14.796875 37.203125 14.796875 27.296875 \r\nz\r\n\" id=\"DejaVuSans-100\"/>\r\n     <path d=\"M 9.421875 54.6875 \r\nL 18.40625 54.6875 \r\nL 18.40625 0 \r\nL 9.421875 0 \r\nz\r\nM 9.421875 75.984375 \r\nL 18.40625 75.984375 \r\nL 18.40625 64.59375 \r\nL 9.421875 64.59375 \r\nz\r\n\" id=\"DejaVuSans-105\"/>\r\n     <path d=\"M 18.3125 70.21875 \r\nL 18.3125 54.6875 \r\nL 36.8125 54.6875 \r\nL 36.8125 47.703125 \r\nL 18.3125 47.703125 \r\nL 18.3125 18.015625 \r\nQ 18.3125 11.328125 20.140625 9.421875 \r\nQ 21.96875 7.515625 27.59375 7.515625 \r\nL 36.8125 7.515625 \r\nL 36.8125 0 \r\nL 27.59375 0 \r\nQ 17.1875 0 13.234375 3.875 \r\nQ 9.28125 7.765625 9.28125 18.015625 \r\nL 9.28125 47.703125 \r\nL 2.6875 47.703125 \r\nL 2.6875 54.6875 \r\nL 9.28125 54.6875 \r\nL 9.28125 70.21875 \r\nz\r\n\" id=\"DejaVuSans-116\"/>\r\n     <path d=\"M 37.109375 75.984375 \r\nL 37.109375 68.5 \r\nL 28.515625 68.5 \r\nQ 23.6875 68.5 21.796875 66.546875 \r\nQ 19.921875 64.59375 19.921875 59.515625 \r\nL 19.921875 54.6875 \r\nL 34.71875 54.6875 \r\nL 34.71875 47.703125 \r\nL 19.921875 47.703125 \r\nL 19.921875 0 \r\nL 10.890625 0 \r\nL 10.890625 47.703125 \r\nL 2.296875 47.703125 \r\nL 2.296875 54.6875 \r\nL 10.890625 54.6875 \r\nL 10.890625 58.5 \r\nQ 10.890625 67.625 15.140625 71.796875 \r\nQ 19.390625 75.984375 28.609375 75.984375 \r\nz\r\n\" id=\"DejaVuSans-102\"/>\r\n     <path d=\"M 45.40625 27.984375 \r\nQ 45.40625 37.75 41.375 43.109375 \r\nQ 37.359375 48.484375 30.078125 48.484375 \r\nQ 22.859375 48.484375 18.828125 43.109375 \r\nQ 14.796875 37.75 14.796875 27.984375 \r\nQ 14.796875 18.265625 18.828125 12.890625 \r\nQ 22.859375 7.515625 30.078125 7.515625 \r\nQ 37.359375 7.515625 41.375 12.890625 \r\nQ 45.40625 18.265625 45.40625 27.984375 \r\nz\r\nM 54.390625 6.78125 \r\nQ 54.390625 -7.171875 48.1875 -13.984375 \r\nQ 42 -20.796875 29.203125 -20.796875 \r\nQ 24.46875 -20.796875 20.265625 -20.09375 \r\nQ 16.0625 -19.390625 12.109375 -17.921875 \r\nL 12.109375 -9.1875 \r\nQ 16.0625 -11.328125 19.921875 -12.34375 \r\nQ 23.78125 -13.375 27.78125 -13.375 \r\nQ 36.625 -13.375 41.015625 -8.765625 \r\nQ 45.40625 -4.15625 45.40625 5.171875 \r\nL 45.40625 9.625 \r\nQ 42.625 4.78125 38.28125 2.390625 \r\nQ 33.9375 0 27.875 0 \r\nQ 17.828125 0 11.671875 7.65625 \r\nQ 5.515625 15.328125 5.515625 27.984375 \r\nQ 5.515625 40.671875 11.671875 48.328125 \r\nQ 17.828125 56 27.875 56 \r\nQ 33.9375 56 38.28125 53.609375 \r\nQ 42.625 51.21875 45.40625 46.390625 \r\nL 45.40625 54.6875 \r\nL 54.390625 54.6875 \r\nz\r\n\" id=\"DejaVuSans-103\"/>\r\n     <path d=\"M 2.984375 54.6875 \r\nL 12.5 54.6875 \r\nL 29.59375 8.796875 \r\nL 46.6875 54.6875 \r\nL 56.203125 54.6875 \r\nL 35.6875 0 \r\nL 23.484375 0 \r\nz\r\n\" id=\"DejaVuSans-118\"/>\r\n     <path d=\"M 9.421875 75.984375 \r\nL 18.40625 75.984375 \r\nL 18.40625 0 \r\nL 9.421875 0 \r\nz\r\n\" id=\"DejaVuSans-108\"/>\r\n     <path d=\"M 44.28125 53.078125 \r\nL 44.28125 44.578125 \r\nQ 40.484375 46.53125 36.375 47.5 \r\nQ 32.28125 48.484375 27.875 48.484375 \r\nQ 21.1875 48.484375 17.84375 46.4375 \r\nQ 14.5 44.390625 14.5 40.28125 \r\nQ 14.5 37.15625 16.890625 35.375 \r\nQ 19.28125 33.59375 26.515625 31.984375 \r\nL 29.59375 31.296875 \r\nQ 39.15625 29.25 43.1875 25.515625 \r\nQ 47.21875 21.78125 47.21875 15.09375 \r\nQ 47.21875 7.46875 41.1875 3.015625 \r\nQ 35.15625 -1.421875 24.609375 -1.421875 \r\nQ 20.21875 -1.421875 15.453125 -0.5625 \r\nQ 10.6875 0.296875 5.421875 2 \r\nL 5.421875 11.28125 \r\nQ 10.40625 8.6875 15.234375 7.390625 \r\nQ 20.0625 6.109375 24.8125 6.109375 \r\nQ 31.15625 6.109375 34.5625 8.28125 \r\nQ 37.984375 10.453125 37.984375 14.40625 \r\nQ 37.984375 18.0625 35.515625 20.015625 \r\nQ 33.0625 21.96875 24.703125 23.78125 \r\nL 21.578125 24.515625 \r\nQ 13.234375 26.265625 9.515625 29.90625 \r\nQ 5.8125 33.546875 5.8125 39.890625 \r\nQ 5.8125 47.609375 11.28125 51.796875 \r\nQ 16.75 56 26.8125 56 \r\nQ 31.78125 56 36.171875 55.265625 \r\nQ 40.578125 54.546875 44.28125 53.078125 \r\nz\r\n\" id=\"DejaVuSans-115\"/>\r\n    </defs>\r\n    <g transform=\"translate(49.543608 16.318125)scale(0.12 -0.12)\">\r\n     <use xlink:href=\"#DejaVuSans-84\"/>\r\n     <use x=\"46.333984\" xlink:href=\"#DejaVuSans-114\"/>\r\n     <use x=\"87.447266\" xlink:href=\"#DejaVuSans-117\"/>\r\n     <use x=\"150.826172\" xlink:href=\"#DejaVuSans-101\"/>\r\n     <use x=\"212.349609\" xlink:href=\"#DejaVuSans-32\"/>\r\n     <use x=\"244.136719\" xlink:href=\"#DejaVuSans-97\"/>\r\n     <use x=\"305.416016\" xlink:href=\"#DejaVuSans-110\"/>\r\n     <use x=\"368.794922\" xlink:href=\"#DejaVuSans-100\"/>\r\n     <use x=\"432.271484\" xlink:href=\"#DejaVuSans-32\"/>\r\n     <use x=\"464.058594\" xlink:href=\"#DejaVuSans-105\"/>\r\n     <use x=\"491.841797\" xlink:href=\"#DejaVuSans-100\"/>\r\n     <use x=\"555.318359\" xlink:href=\"#DejaVuSans-101\"/>\r\n     <use x=\"616.841797\" xlink:href=\"#DejaVuSans-110\"/>\r\n     <use x=\"680.220703\" xlink:href=\"#DejaVuSans-116\"/>\r\n     <use x=\"719.429688\" xlink:href=\"#DejaVuSans-105\"/>\r\n     <use x=\"747.212891\" xlink:href=\"#DejaVuSans-102\"/>\r\n     <use x=\"782.417969\" xlink:href=\"#DejaVuSans-105\"/>\r\n     <use x=\"810.201172\" xlink:href=\"#DejaVuSans-101\"/>\r\n     <use x=\"871.724609\" xlink:href=\"#DejaVuSans-100\"/>\r\n     <use x=\"935.201172\" xlink:href=\"#DejaVuSans-32\"/>\r\n     <use x=\"966.988281\" xlink:href=\"#DejaVuSans-101\"/>\r\n     <use x=\"1028.511719\" xlink:href=\"#DejaVuSans-105\"/>\r\n     <use x=\"1056.294922\" xlink:href=\"#DejaVuSans-103\"/>\r\n     <use x=\"1119.771484\" xlink:href=\"#DejaVuSans-101\"/>\r\n     <use x=\"1181.294922\" xlink:href=\"#DejaVuSans-118\"/>\r\n     <use x=\"1240.474609\" xlink:href=\"#DejaVuSans-97\"/>\r\n     <use x=\"1301.753906\" xlink:href=\"#DejaVuSans-108\"/>\r\n     <use x=\"1329.537109\" xlink:href=\"#DejaVuSans-117\"/>\r\n     <use x=\"1392.916016\" xlink:href=\"#DejaVuSans-101\"/>\r\n     <use x=\"1454.439453\" xlink:href=\"#DejaVuSans-115\"/>\r\n    </g>\r\n   </g>\r\n   <g id=\"legend_1\">\r\n    <g id=\"patch_8\">\r\n     <path d=\"M 251.508267 169.233438 \r\nL 456.792642 169.233438 \r\nQ 458.792642 169.233438 458.792642 167.233438 \r\nL 458.792642 94.842813 \r\nQ 458.792642 92.842813 456.792642 92.842813 \r\nL 251.508267 92.842813 \r\nQ 249.508267 92.842813 249.508267 94.842813 \r\nL 249.508267 167.233438 \r\nQ 249.508267 169.233438 251.508267 169.233438 \r\nz\r\n\" style=\"fill:#ffffff;opacity:0.8;stroke:#cccccc;stroke-linejoin:miter;\"/>\r\n    </g>\r\n    <g id=\"PathCollection_6\">\r\n     <path d=\"M 263.508267 104.81625 \r\nC 264.303876 104.81625 265.067007 104.500151 265.629587 103.93757 \r\nC 266.192168 103.37499 266.508267 102.611859 266.508267 101.81625 \r\nC 266.508267 101.020641 266.192168 100.25751 265.629587 99.69493 \r\nC 265.067007 99.132349 264.303876 98.81625 263.508267 98.81625 \r\nC 262.712658 98.81625 261.949527 99.132349 261.386947 99.69493 \r\nC 260.824366 100.25751 260.508267 101.020641 260.508267 101.81625 \r\nC 260.508267 102.611859 260.824366 103.37499 261.386947 103.93757 \r\nC 261.949527 104.500151 262.712658 104.81625 263.508267 104.81625 \r\nz\r\n\" style=\"fill:none;stroke:#0000ff;\"/>\r\n    </g>\r\n    <g id=\"text_12\">\r\n     <!-- Not encoded in neural signals -->\r\n     <defs>\r\n      <path d=\"M 9.8125 72.90625 \r\nL 23.09375 72.90625 \r\nL 55.421875 11.921875 \r\nL 55.421875 72.90625 \r\nL 64.984375 72.90625 \r\nL 64.984375 0 \r\nL 51.703125 0 \r\nL 19.390625 60.984375 \r\nL 19.390625 0 \r\nL 9.8125 0 \r\nz\r\n\" id=\"DejaVuSans-78\"/>\r\n      <path d=\"M 30.609375 48.390625 \r\nQ 23.390625 48.390625 19.1875 42.75 \r\nQ 14.984375 37.109375 14.984375 27.296875 \r\nQ 14.984375 17.484375 19.15625 11.84375 \r\nQ 23.34375 6.203125 30.609375 6.203125 \r\nQ 37.796875 6.203125 41.984375 11.859375 \r\nQ 46.1875 17.53125 46.1875 27.296875 \r\nQ 46.1875 37.015625 41.984375 42.703125 \r\nQ 37.796875 48.390625 30.609375 48.390625 \r\nz\r\nM 30.609375 56 \r\nQ 42.328125 56 49.015625 48.375 \r\nQ 55.71875 40.765625 55.71875 27.296875 \r\nQ 55.71875 13.875 49.015625 6.21875 \r\nQ 42.328125 -1.421875 30.609375 -1.421875 \r\nQ 18.84375 -1.421875 12.171875 6.21875 \r\nQ 5.515625 13.875 5.515625 27.296875 \r\nQ 5.515625 40.765625 12.171875 48.375 \r\nQ 18.84375 56 30.609375 56 \r\nz\r\n\" id=\"DejaVuSans-111\"/>\r\n      <path d=\"M 48.78125 52.59375 \r\nL 48.78125 44.1875 \r\nQ 44.96875 46.296875 41.140625 47.34375 \r\nQ 37.3125 48.390625 33.40625 48.390625 \r\nQ 24.65625 48.390625 19.8125 42.84375 \r\nQ 14.984375 37.3125 14.984375 27.296875 \r\nQ 14.984375 17.28125 19.8125 11.734375 \r\nQ 24.65625 6.203125 33.40625 6.203125 \r\nQ 37.3125 6.203125 41.140625 7.25 \r\nQ 44.96875 8.296875 48.78125 10.40625 \r\nL 48.78125 2.09375 \r\nQ 45.015625 0.34375 40.984375 -0.53125 \r\nQ 36.96875 -1.421875 32.421875 -1.421875 \r\nQ 20.0625 -1.421875 12.78125 6.34375 \r\nQ 5.515625 14.109375 5.515625 27.296875 \r\nQ 5.515625 40.671875 12.859375 48.328125 \r\nQ 20.21875 56 33.015625 56 \r\nQ 37.15625 56 41.109375 55.140625 \r\nQ 45.0625 54.296875 48.78125 52.59375 \r\nz\r\n\" id=\"DejaVuSans-99\"/>\r\n     </defs>\r\n     <g transform=\"translate(281.508267 104.44125)scale(0.1 -0.1)\">\r\n      <use xlink:href=\"#DejaVuSans-78\"/>\r\n      <use x=\"74.804688\" xlink:href=\"#DejaVuSans-111\"/>\r\n      <use x=\"135.986328\" xlink:href=\"#DejaVuSans-116\"/>\r\n      <use x=\"175.195312\" xlink:href=\"#DejaVuSans-32\"/>\r\n      <use x=\"206.982422\" xlink:href=\"#DejaVuSans-101\"/>\r\n      <use x=\"268.505859\" xlink:href=\"#DejaVuSans-110\"/>\r\n      <use x=\"331.884766\" xlink:href=\"#DejaVuSans-99\"/>\r\n      <use x=\"386.865234\" xlink:href=\"#DejaVuSans-111\"/>\r\n      <use x=\"448.046875\" xlink:href=\"#DejaVuSans-100\"/>\r\n      <use x=\"511.523438\" xlink:href=\"#DejaVuSans-101\"/>\r\n      <use x=\"573.046875\" xlink:href=\"#DejaVuSans-100\"/>\r\n      <use x=\"636.523438\" xlink:href=\"#DejaVuSans-32\"/>\r\n      <use x=\"668.310547\" xlink:href=\"#DejaVuSans-105\"/>\r\n      <use x=\"696.09375\" xlink:href=\"#DejaVuSans-110\"/>\r\n      <use x=\"759.472656\" xlink:href=\"#DejaVuSans-32\"/>\r\n      <use x=\"791.259766\" xlink:href=\"#DejaVuSans-110\"/>\r\n      <use x=\"854.638672\" xlink:href=\"#DejaVuSans-101\"/>\r\n      <use x=\"916.162109\" xlink:href=\"#DejaVuSans-117\"/>\r\n      <use x=\"979.541016\" xlink:href=\"#DejaVuSans-114\"/>\r\n      <use x=\"1020.654297\" xlink:href=\"#DejaVuSans-97\"/>\r\n      <use x=\"1081.933594\" xlink:href=\"#DejaVuSans-108\"/>\r\n      <use x=\"1109.716797\" xlink:href=\"#DejaVuSans-32\"/>\r\n      <use x=\"1141.503906\" xlink:href=\"#DejaVuSans-115\"/>\r\n      <use x=\"1193.603516\" xlink:href=\"#DejaVuSans-105\"/>\r\n      <use x=\"1221.386719\" xlink:href=\"#DejaVuSans-103\"/>\r\n      <use x=\"1284.863281\" xlink:href=\"#DejaVuSans-110\"/>\r\n      <use x=\"1348.242188\" xlink:href=\"#DejaVuSans-97\"/>\r\n      <use x=\"1409.521484\" xlink:href=\"#DejaVuSans-108\"/>\r\n      <use x=\"1437.304688\" xlink:href=\"#DejaVuSans-115\"/>\r\n     </g>\r\n    </g>\r\n    <g id=\"PathCollection_7\">\r\n     <path d=\"M 263.508267 119.494375 \r\nC 264.303876 119.494375 265.067007 119.178276 265.629587 118.615695 \r\nC 266.192168 118.053115 266.508267 117.289984 266.508267 116.494375 \r\nC 266.508267 115.698766 266.192168 114.935635 265.629587 114.373055 \r\nC 265.067007 113.810474 264.303876 113.494375 263.508267 113.494375 \r\nC 262.712658 113.494375 261.949527 113.810474 261.386947 114.373055 \r\nC 260.824366 114.935635 260.508267 115.698766 260.508267 116.494375 \r\nC 260.508267 117.289984 260.824366 118.053115 261.386947 118.615695 \r\nC 261.949527 119.178276 262.712658 119.494375 263.508267 119.494375 \r\nz\r\n\" style=\"fill:none;stroke:#ff0000;\"/>\r\n    </g>\r\n    <g id=\"text_13\">\r\n     <!-- Behaviorally irrelevant -->\r\n     <defs>\r\n      <path d=\"M 19.671875 34.8125 \r\nL 19.671875 8.109375 \r\nL 35.5 8.109375 \r\nQ 43.453125 8.109375 47.28125 11.40625 \r\nQ 51.125 14.703125 51.125 21.484375 \r\nQ 51.125 28.328125 47.28125 31.5625 \r\nQ 43.453125 34.8125 35.5 34.8125 \r\nz\r\nM 19.671875 64.796875 \r\nL 19.671875 42.828125 \r\nL 34.28125 42.828125 \r\nQ 41.5 42.828125 45.03125 45.53125 \r\nQ 48.578125 48.25 48.578125 53.8125 \r\nQ 48.578125 59.328125 45.03125 62.0625 \r\nQ 41.5 64.796875 34.28125 64.796875 \r\nz\r\nM 9.8125 72.90625 \r\nL 35.015625 72.90625 \r\nQ 46.296875 72.90625 52.390625 68.21875 \r\nQ 58.5 63.53125 58.5 54.890625 \r\nQ 58.5 48.1875 55.375 44.234375 \r\nQ 52.25 40.28125 46.1875 39.3125 \r\nQ 53.46875 37.75 57.5 32.78125 \r\nQ 61.53125 27.828125 61.53125 20.40625 \r\nQ 61.53125 10.640625 54.890625 5.3125 \r\nQ 48.25 0 35.984375 0 \r\nL 9.8125 0 \r\nz\r\n\" id=\"DejaVuSans-66\"/>\r\n      <path d=\"M 54.890625 33.015625 \r\nL 54.890625 0 \r\nL 45.90625 0 \r\nL 45.90625 32.71875 \r\nQ 45.90625 40.484375 42.875 44.328125 \r\nQ 39.84375 48.1875 33.796875 48.1875 \r\nQ 26.515625 48.1875 22.3125 43.546875 \r\nQ 18.109375 38.921875 18.109375 30.90625 \r\nL 18.109375 0 \r\nL 9.078125 0 \r\nL 9.078125 75.984375 \r\nL 18.109375 75.984375 \r\nL 18.109375 46.1875 \r\nQ 21.34375 51.125 25.703125 53.5625 \r\nQ 30.078125 56 35.796875 56 \r\nQ 45.21875 56 50.046875 50.171875 \r\nQ 54.890625 44.34375 54.890625 33.015625 \r\nz\r\n\" id=\"DejaVuSans-104\"/>\r\n      <path d=\"M 32.171875 -5.078125 \r\nQ 28.375 -14.84375 24.75 -17.8125 \r\nQ 21.140625 -20.796875 15.09375 -20.796875 \r\nL 7.90625 -20.796875 \r\nL 7.90625 -13.28125 \r\nL 13.1875 -13.28125 \r\nQ 16.890625 -13.28125 18.9375 -11.515625 \r\nQ 21 -9.765625 23.484375 -3.21875 \r\nL 25.09375 0.875 \r\nL 2.984375 54.6875 \r\nL 12.5 54.6875 \r\nL 29.59375 11.921875 \r\nL 46.6875 54.6875 \r\nL 56.203125 54.6875 \r\nz\r\n\" id=\"DejaVuSans-121\"/>\r\n     </defs>\r\n     <g transform=\"translate(281.508267 119.119375)scale(0.1 -0.1)\">\r\n      <use xlink:href=\"#DejaVuSans-66\"/>\r\n      <use x=\"68.603516\" xlink:href=\"#DejaVuSans-101\"/>\r\n      <use x=\"130.126953\" xlink:href=\"#DejaVuSans-104\"/>\r\n      <use x=\"193.505859\" xlink:href=\"#DejaVuSans-97\"/>\r\n      <use x=\"254.785156\" xlink:href=\"#DejaVuSans-118\"/>\r\n      <use x=\"313.964844\" xlink:href=\"#DejaVuSans-105\"/>\r\n      <use x=\"341.748047\" xlink:href=\"#DejaVuSans-111\"/>\r\n      <use x=\"402.929688\" xlink:href=\"#DejaVuSans-114\"/>\r\n      <use x=\"444.042969\" xlink:href=\"#DejaVuSans-97\"/>\r\n      <use x=\"505.322266\" xlink:href=\"#DejaVuSans-108\"/>\r\n      <use x=\"533.105469\" xlink:href=\"#DejaVuSans-108\"/>\r\n      <use x=\"560.888672\" xlink:href=\"#DejaVuSans-121\"/>\r\n      <use x=\"620.068359\" xlink:href=\"#DejaVuSans-32\"/>\r\n      <use x=\"651.855469\" xlink:href=\"#DejaVuSans-105\"/>\r\n      <use x=\"679.638672\" xlink:href=\"#DejaVuSans-114\"/>\r\n      <use x=\"719.001953\" xlink:href=\"#DejaVuSans-114\"/>\r\n      <use x=\"757.865234\" xlink:href=\"#DejaVuSans-101\"/>\r\n      <use x=\"819.388672\" xlink:href=\"#DejaVuSans-108\"/>\r\n      <use x=\"847.171875\" xlink:href=\"#DejaVuSans-101\"/>\r\n      <use x=\"908.695312\" xlink:href=\"#DejaVuSans-118\"/>\r\n      <use x=\"967.875\" xlink:href=\"#DejaVuSans-97\"/>\r\n      <use x=\"1029.154297\" xlink:href=\"#DejaVuSans-110\"/>\r\n      <use x=\"1092.533203\" xlink:href=\"#DejaVuSans-116\"/>\r\n     </g>\r\n    </g>\r\n    <g id=\"PathCollection_8\">\r\n     <path d=\"M 263.508267 134.1725 \r\nC 264.303876 134.1725 265.067007 133.856401 265.629587 133.29382 \r\nC 266.192168 132.73124 266.508267 131.968109 266.508267 131.1725 \r\nC 266.508267 130.376891 266.192168 129.61376 265.629587 129.05118 \r\nC 265.067007 128.488599 264.303876 128.1725 263.508267 128.1725 \r\nC 262.712658 128.1725 261.949527 128.488599 261.386947 129.05118 \r\nC 260.824366 129.61376 260.508267 130.376891 260.508267 131.1725 \r\nC 260.508267 131.968109 260.824366 132.73124 261.386947 133.29382 \r\nC 261.949527 133.856401 262.712658 134.1725 263.508267 134.1725 \r\nz\r\n\" style=\"fill:none;stroke:#00ff00;\"/>\r\n    </g>\r\n    <g id=\"text_14\">\r\n     <!-- Behaviorally relevant -->\r\n     <g transform=\"translate(281.508267 133.7975)scale(0.1 -0.1)\">\r\n      <use xlink:href=\"#DejaVuSans-66\"/>\r\n      <use x=\"68.603516\" xlink:href=\"#DejaVuSans-101\"/>\r\n      <use x=\"130.126953\" xlink:href=\"#DejaVuSans-104\"/>\r\n      <use x=\"193.505859\" xlink:href=\"#DejaVuSans-97\"/>\r\n      <use x=\"254.785156\" xlink:href=\"#DejaVuSans-118\"/>\r\n      <use x=\"313.964844\" xlink:href=\"#DejaVuSans-105\"/>\r\n      <use x=\"341.748047\" xlink:href=\"#DejaVuSans-111\"/>\r\n      <use x=\"402.929688\" xlink:href=\"#DejaVuSans-114\"/>\r\n      <use x=\"444.042969\" xlink:href=\"#DejaVuSans-97\"/>\r\n      <use x=\"505.322266\" xlink:href=\"#DejaVuSans-108\"/>\r\n      <use x=\"533.105469\" xlink:href=\"#DejaVuSans-108\"/>\r\n      <use x=\"560.888672\" xlink:href=\"#DejaVuSans-121\"/>\r\n      <use x=\"620.068359\" xlink:href=\"#DejaVuSans-32\"/>\r\n      <use x=\"651.855469\" xlink:href=\"#DejaVuSans-114\"/>\r\n      <use x=\"690.71875\" xlink:href=\"#DejaVuSans-101\"/>\r\n      <use x=\"752.242188\" xlink:href=\"#DejaVuSans-108\"/>\r\n      <use x=\"780.025391\" xlink:href=\"#DejaVuSans-101\"/>\r\n      <use x=\"841.548828\" xlink:href=\"#DejaVuSans-118\"/>\r\n      <use x=\"900.728516\" xlink:href=\"#DejaVuSans-97\"/>\r\n      <use x=\"962.007812\" xlink:href=\"#DejaVuSans-110\"/>\r\n      <use x=\"1025.386719\" xlink:href=\"#DejaVuSans-116\"/>\r\n     </g>\r\n    </g>\r\n    <g id=\"PathCollection_9\">\r\n     <g>\r\n      <use style=\"fill:#00aa00;stroke:#00aa00;stroke-width:1.5;\" x=\"263.508267\" xlink:href=\"#m6ffabd8df7\" y=\"145.850625\"/>\r\n     </g>\r\n    </g>\r\n    <g id=\"text_15\">\r\n     <!-- PSID Identified (stage 1) -->\r\n     <defs>\r\n      <path d=\"M 19.671875 64.796875 \r\nL 19.671875 37.40625 \r\nL 32.078125 37.40625 \r\nQ 38.96875 37.40625 42.71875 40.96875 \r\nQ 46.484375 44.53125 46.484375 51.125 \r\nQ 46.484375 57.671875 42.71875 61.234375 \r\nQ 38.96875 64.796875 32.078125 64.796875 \r\nz\r\nM 9.8125 72.90625 \r\nL 32.078125 72.90625 \r\nQ 44.34375 72.90625 50.609375 67.359375 \r\nQ 56.890625 61.8125 56.890625 51.125 \r\nQ 56.890625 40.328125 50.609375 34.8125 \r\nQ 44.34375 29.296875 32.078125 29.296875 \r\nL 19.671875 29.296875 \r\nL 19.671875 0 \r\nL 9.8125 0 \r\nz\r\n\" id=\"DejaVuSans-80\"/>\r\n      <path d=\"M 53.515625 70.515625 \r\nL 53.515625 60.890625 \r\nQ 47.90625 63.578125 42.921875 64.890625 \r\nQ 37.9375 66.21875 33.296875 66.21875 \r\nQ 25.25 66.21875 20.875 63.09375 \r\nQ 16.5 59.96875 16.5 54.203125 \r\nQ 16.5 49.359375 19.40625 46.890625 \r\nQ 22.3125 44.4375 30.421875 42.921875 \r\nL 36.375 41.703125 \r\nQ 47.40625 39.59375 52.65625 34.296875 \r\nQ 57.90625 29 57.90625 20.125 \r\nQ 57.90625 9.515625 50.796875 4.046875 \r\nQ 43.703125 -1.421875 29.984375 -1.421875 \r\nQ 24.8125 -1.421875 18.96875 -0.25 \r\nQ 13.140625 0.921875 6.890625 3.21875 \r\nL 6.890625 13.375 \r\nQ 12.890625 10.015625 18.65625 8.296875 \r\nQ 24.421875 6.59375 29.984375 6.59375 \r\nQ 38.421875 6.59375 43.015625 9.90625 \r\nQ 47.609375 13.234375 47.609375 19.390625 \r\nQ 47.609375 24.75 44.3125 27.78125 \r\nQ 41.015625 30.8125 33.5 32.328125 \r\nL 27.484375 33.5 \r\nQ 16.453125 35.6875 11.515625 40.375 \r\nQ 6.59375 45.0625 6.59375 53.421875 \r\nQ 6.59375 63.09375 13.40625 68.65625 \r\nQ 20.21875 74.21875 32.171875 74.21875 \r\nQ 37.3125 74.21875 42.625 73.28125 \r\nQ 47.953125 72.359375 53.515625 70.515625 \r\nz\r\n\" id=\"DejaVuSans-83\"/>\r\n      <path d=\"M 9.8125 72.90625 \r\nL 19.671875 72.90625 \r\nL 19.671875 0 \r\nL 9.8125 0 \r\nz\r\n\" id=\"DejaVuSans-73\"/>\r\n      <path d=\"M 19.671875 64.796875 \r\nL 19.671875 8.109375 \r\nL 31.59375 8.109375 \r\nQ 46.6875 8.109375 53.6875 14.9375 \r\nQ 60.6875 21.78125 60.6875 36.53125 \r\nQ 60.6875 51.171875 53.6875 57.984375 \r\nQ 46.6875 64.796875 31.59375 64.796875 \r\nz\r\nM 9.8125 72.90625 \r\nL 30.078125 72.90625 \r\nQ 51.265625 72.90625 61.171875 64.09375 \r\nQ 71.09375 55.28125 71.09375 36.53125 \r\nQ 71.09375 17.671875 61.125 8.828125 \r\nQ 51.171875 0 30.078125 0 \r\nL 9.8125 0 \r\nz\r\n\" id=\"DejaVuSans-68\"/>\r\n      <path d=\"M 31 75.875 \r\nQ 24.46875 64.65625 21.28125 53.65625 \r\nQ 18.109375 42.671875 18.109375 31.390625 \r\nQ 18.109375 20.125 21.3125 9.0625 \r\nQ 24.515625 -2 31 -13.1875 \r\nL 23.1875 -13.1875 \r\nQ 15.875 -1.703125 12.234375 9.375 \r\nQ 8.59375 20.453125 8.59375 31.390625 \r\nQ 8.59375 42.28125 12.203125 53.3125 \r\nQ 15.828125 64.359375 23.1875 75.875 \r\nz\r\n\" id=\"DejaVuSans-40\"/>\r\n      <path d=\"M 8.015625 75.875 \r\nL 15.828125 75.875 \r\nQ 23.140625 64.359375 26.78125 53.3125 \r\nQ 30.421875 42.28125 30.421875 31.390625 \r\nQ 30.421875 20.453125 26.78125 9.375 \r\nQ 23.140625 -1.703125 15.828125 -13.1875 \r\nL 8.015625 -13.1875 \r\nQ 14.5 -2 17.703125 9.0625 \r\nQ 20.90625 20.125 20.90625 31.390625 \r\nQ 20.90625 42.671875 17.703125 53.65625 \r\nQ 14.5 64.65625 8.015625 75.875 \r\nz\r\n\" id=\"DejaVuSans-41\"/>\r\n     </defs>\r\n     <g transform=\"translate(281.508267 148.475625)scale(0.1 -0.1)\">\r\n      <use xlink:href=\"#DejaVuSans-80\"/>\r\n      <use x=\"60.302734\" xlink:href=\"#DejaVuSans-83\"/>\r\n      <use x=\"123.779297\" xlink:href=\"#DejaVuSans-73\"/>\r\n      <use x=\"153.271484\" xlink:href=\"#DejaVuSans-68\"/>\r\n      <use x=\"230.273438\" xlink:href=\"#DejaVuSans-32\"/>\r\n      <use x=\"262.060547\" xlink:href=\"#DejaVuSans-73\"/>\r\n      <use x=\"291.552734\" xlink:href=\"#DejaVuSans-100\"/>\r\n      <use x=\"355.029297\" xlink:href=\"#DejaVuSans-101\"/>\r\n      <use x=\"416.552734\" xlink:href=\"#DejaVuSans-110\"/>\r\n      <use x=\"479.931641\" xlink:href=\"#DejaVuSans-116\"/>\r\n      <use x=\"519.140625\" xlink:href=\"#DejaVuSans-105\"/>\r\n      <use x=\"546.923828\" xlink:href=\"#DejaVuSans-102\"/>\r\n      <use x=\"582.128906\" xlink:href=\"#DejaVuSans-105\"/>\r\n      <use x=\"609.912109\" xlink:href=\"#DejaVuSans-101\"/>\r\n      <use x=\"671.435547\" xlink:href=\"#DejaVuSans-100\"/>\r\n      <use x=\"734.912109\" xlink:href=\"#DejaVuSans-32\"/>\r\n      <use x=\"766.699219\" xlink:href=\"#DejaVuSans-40\"/>\r\n      <use x=\"805.712891\" xlink:href=\"#DejaVuSans-115\"/>\r\n      <use x=\"857.8125\" xlink:href=\"#DejaVuSans-116\"/>\r\n      <use x=\"897.021484\" xlink:href=\"#DejaVuSans-97\"/>\r\n      <use x=\"958.300781\" xlink:href=\"#DejaVuSans-103\"/>\r\n      <use x=\"1021.777344\" xlink:href=\"#DejaVuSans-101\"/>\r\n      <use x=\"1083.300781\" xlink:href=\"#DejaVuSans-32\"/>\r\n      <use x=\"1115.087891\" xlink:href=\"#DejaVuSans-49\"/>\r\n      <use x=\"1178.710938\" xlink:href=\"#DejaVuSans-41\"/>\r\n     </g>\r\n    </g>\r\n    <g id=\"PathCollection_10\">\r\n     <g>\r\n      <use style=\"fill:#aa0000;stroke:#aa0000;stroke-width:1.5;\" x=\"263.508267\" xlink:href=\"#maa80f129cd\" y=\"160.52875\"/>\r\n     </g>\r\n    </g>\r\n    <g id=\"text_16\">\r\n     <!-- (optional) PSID Identified (stage 2) -->\r\n     <defs>\r\n      <path d=\"M 18.109375 8.203125 \r\nL 18.109375 -20.796875 \r\nL 9.078125 -20.796875 \r\nL 9.078125 54.6875 \r\nL 18.109375 54.6875 \r\nL 18.109375 46.390625 \r\nQ 20.953125 51.265625 25.265625 53.625 \r\nQ 29.59375 56 35.59375 56 \r\nQ 45.5625 56 51.78125 48.09375 \r\nQ 58.015625 40.1875 58.015625 27.296875 \r\nQ 58.015625 14.40625 51.78125 6.484375 \r\nQ 45.5625 -1.421875 35.59375 -1.421875 \r\nQ 29.59375 -1.421875 25.265625 0.953125 \r\nQ 20.953125 3.328125 18.109375 8.203125 \r\nz\r\nM 48.6875 27.296875 \r\nQ 48.6875 37.203125 44.609375 42.84375 \r\nQ 40.53125 48.484375 33.40625 48.484375 \r\nQ 26.265625 48.484375 22.1875 42.84375 \r\nQ 18.109375 37.203125 18.109375 27.296875 \r\nQ 18.109375 17.390625 22.1875 11.75 \r\nQ 26.265625 6.109375 33.40625 6.109375 \r\nQ 40.53125 6.109375 44.609375 11.75 \r\nQ 48.6875 17.390625 48.6875 27.296875 \r\nz\r\n\" id=\"DejaVuSans-112\"/>\r\n      <path d=\"M 19.1875 8.296875 \r\nL 53.609375 8.296875 \r\nL 53.609375 0 \r\nL 7.328125 0 \r\nL 7.328125 8.296875 \r\nQ 12.9375 14.109375 22.625 23.890625 \r\nQ 32.328125 33.6875 34.8125 36.53125 \r\nQ 39.546875 41.84375 41.421875 45.53125 \r\nQ 43.3125 49.21875 43.3125 52.78125 \r\nQ 43.3125 58.59375 39.234375 62.25 \r\nQ 35.15625 65.921875 28.609375 65.921875 \r\nQ 23.96875 65.921875 18.8125 64.3125 \r\nQ 13.671875 62.703125 7.8125 59.421875 \r\nL 7.8125 69.390625 \r\nQ 13.765625 71.78125 18.9375 73 \r\nQ 24.125 74.21875 28.421875 74.21875 \r\nQ 39.75 74.21875 46.484375 68.546875 \r\nQ 53.21875 62.890625 53.21875 53.421875 \r\nQ 53.21875 48.921875 51.53125 44.890625 \r\nQ 49.859375 40.875 45.40625 35.40625 \r\nQ 44.1875 33.984375 37.640625 27.21875 \r\nQ 31.109375 20.453125 19.1875 8.296875 \r\nz\r\n\" id=\"DejaVuSans-50\"/>\r\n     </defs>\r\n     <g transform=\"translate(281.508267 163.15375)scale(0.1 -0.1)\">\r\n      <use xlink:href=\"#DejaVuSans-40\"/>\r\n      <use x=\"39.013672\" xlink:href=\"#DejaVuSans-111\"/>\r\n      <use x=\"100.195312\" xlink:href=\"#DejaVuSans-112\"/>\r\n      <use x=\"163.671875\" xlink:href=\"#DejaVuSans-116\"/>\r\n      <use x=\"202.880859\" xlink:href=\"#DejaVuSans-105\"/>\r\n      <use x=\"230.664062\" xlink:href=\"#DejaVuSans-111\"/>\r\n      <use x=\"291.845703\" xlink:href=\"#DejaVuSans-110\"/>\r\n      <use x=\"355.224609\" xlink:href=\"#DejaVuSans-97\"/>\r\n      <use x=\"416.503906\" xlink:href=\"#DejaVuSans-108\"/>\r\n      <use x=\"444.287109\" xlink:href=\"#DejaVuSans-41\"/>\r\n      <use x=\"483.300781\" xlink:href=\"#DejaVuSans-32\"/>\r\n      <use x=\"515.087891\" xlink:href=\"#DejaVuSans-80\"/>\r\n      <use x=\"575.390625\" xlink:href=\"#DejaVuSans-83\"/>\r\n      <use x=\"638.867188\" xlink:href=\"#DejaVuSans-73\"/>\r\n      <use x=\"668.359375\" xlink:href=\"#DejaVuSans-68\"/>\r\n      <use x=\"745.361328\" xlink:href=\"#DejaVuSans-32\"/>\r\n      <use x=\"777.148438\" xlink:href=\"#DejaVuSans-73\"/>\r\n      <use x=\"806.640625\" xlink:href=\"#DejaVuSans-100\"/>\r\n      <use x=\"870.117188\" xlink:href=\"#DejaVuSans-101\"/>\r\n      <use x=\"931.640625\" xlink:href=\"#DejaVuSans-110\"/>\r\n      <use x=\"995.019531\" xlink:href=\"#DejaVuSans-116\"/>\r\n      <use x=\"1034.228516\" xlink:href=\"#DejaVuSans-105\"/>\r\n      <use x=\"1062.011719\" xlink:href=\"#DejaVuSans-102\"/>\r\n      <use x=\"1097.216797\" xlink:href=\"#DejaVuSans-105\"/>\r\n      <use x=\"1125\" xlink:href=\"#DejaVuSans-101\"/>\r\n      <use x=\"1186.523438\" xlink:href=\"#DejaVuSans-100\"/>\r\n      <use x=\"1250\" xlink:href=\"#DejaVuSans-32\"/>\r\n      <use x=\"1281.787109\" xlink:href=\"#DejaVuSans-40\"/>\r\n      <use x=\"1320.800781\" xlink:href=\"#DejaVuSans-115\"/>\r\n      <use x=\"1372.900391\" xlink:href=\"#DejaVuSans-116\"/>\r\n      <use x=\"1412.109375\" xlink:href=\"#DejaVuSans-97\"/>\r\n      <use x=\"1473.388672\" xlink:href=\"#DejaVuSans-103\"/>\r\n      <use x=\"1536.865234\" xlink:href=\"#DejaVuSans-101\"/>\r\n      <use x=\"1598.388672\" xlink:href=\"#DejaVuSans-32\"/>\r\n      <use x=\"1630.175781\" xlink:href=\"#DejaVuSans-50\"/>\r\n      <use x=\"1693.798828\" xlink:href=\"#DejaVuSans-41\"/>\r\n     </g>\r\n    </g>\r\n   </g>\r\n  </g>\r\n </g>\r\n <defs>\r\n  <clipPath id=\"pbc1f94c879\">\r\n   <rect height=\"217.44\" width=\"202.909091\" x=\"38.482813\" y=\"22.318125\"/>\r\n  </clipPath>\r\n </defs>\r\n</svg>\r\n",
            "image/png": "[encoded data removed]"
          },
          "metadata": {
            "needs_background": "light"
          }
        }
      ]
    },
    {
      "cell_type": "markdown",
      "metadata": {
        "id": "OIg0PhNeFcyj"
      },
      "source": [
        "# Using PSID with trial based data\n",
        "You can also use PSID if the data is available in separate chunks, for example across many trials. To do this, simply pass a python list with the data in each chunk/trial as the argument to PSID. The trials don't need to have the same number of samples either. \n",
        "\n",
        "Below is an example, where we break the same data as before in small chunks of random length, and then pass it to PSID."
      ]
    },
    {
      "source": [
        "## (Example 3) PSID can be used if data is available in discontinuous segments (e.g. different trials)\r\n",
        "# In this case, y and z data segments must be provided as elements of a list\r\n",
        "# Trials do not need to have the same number of samples\r\n",
        "# Here, for example assume that trials start at every 1000 samples.\r\n",
        "# And each each trial has a random length of 500 to 900 samples\r\n",
        "trialStartInds = np.arange(0, allYData.shape[0]-1000, 1000)\r\n",
        "trialDurRange = np.array([900, 990])\r\n",
        "trialDur = np.random.randint(low=trialDurRange[0], high=1+trialDurRange[1], size=trialStartInds.shape)\r\n",
        "trialInds = [trialStartInds[ti]+np.arange(trialDur[ti]) for ti in range(trialStartInds.size)] \r\n",
        "yTrials = [allYData[trialIndsThis, :] for trialIndsThis in trialInds] \r\n",
        "zTrials = [allZData[trialIndsThis, :] for trialIndsThis in trialInds] \r\n",
        "\r\n",
        "# Separate data into training and test data:\r\n",
        "trainInds = np.arange(np.round(0.5*len(yTrials)), dtype=int)\r\n",
        "testInds = np.arange(1+trainInds[-1], len(yTrials))\r\n",
        "yTrain = [yTrials[ti] for ti in trainInds]\r\n",
        "yTest = [yTrials[ti] for ti in testInds]\r\n",
        "zTrain = [zTrials[ti] for ti in trainInds]\r\n",
        "zTest = [zTrials[ti] for ti in testInds]\r\n",
        "\r\n",
        "idSys3 = PSID.PSID(yTrain, zTrain, nx=2, n1=2, i=10)\r\n",
        "\r\n",
        "for ti in range(len(yTest)):\r\n",
        "  zPredThis, yPredThis, xPredThis = idSys3.predict(yTest[ti])\r\n",
        "  zPredThisIdeal, yPredThisIdeal, xPredThisIdeal = trueSys.predict(yTest[ti])\r\n",
        "  if ti == 0:\r\n",
        "    zTestA = zTest[ti]\r\n",
        "    zPredA = zPredThis\r\n",
        "    zPredIdealA = zPredThisIdeal\r\n",
        "  else:\r\n",
        "    zTestA = np.concatenate( (zTestA, zTest[ti]), axis=0)\r\n",
        "    zPredA = np.concatenate( (zPredA, zPredThis), axis=0)\r\n",
        "    zPredIdealA = np.concatenate( (zPredIdealA, zPredThisIdeal), axis=0)\r\n",
        "\r\n",
        "CCTrialBased = evalPrediction(zTestA, zPredA, 'CC')\r\n",
        "CCTrialBasedIdeal = evalPrediction(zTestA, zPredIdealA, 'CC')\r\n",
        "\r\n",
        "print('Behavior decoding CC (trial-based learning/decoding):\\n  PSID => {:.3g}, Ideal using true model = {:.3g}'.format(np.mean(CCTrialBased), np.mean(CCTrialBasedIdeal)) )"
      ],
      "cell_type": "code",
      "metadata": {
        "colab": {
          "base_uri": "https://localhost:8080/"
        },
        "id": "-McGIeBhE90J",
        "outputId": "91fa16cf-aa58-4688-e695-5c675dd12886"
      },
      "execution_count": 10,
      "outputs": [
        {
          "output_type": "stream",
          "name": "stdout",
          "text": [
            "Behavior decoding CC (trial-based learning/decoding):\n  PSID => 0.641, Ideal using true model = 0.641\n"
          ]
        }
      ]
    },
    {
      "source": [
        "# How to pick the state dimensions `nx` and `n1`?\n",
        "`nx` determines the total dimension of the latent state and `n1` determines how many of those dimensions will be prioritizing the inclusion of behaviorally relevant neural dynamcis (i.e. will be extracted using stage 1 of PSID). So the values that you would select for these hyperparameters depend on the goal of modeling and on the data. Some examples use cases are:\n",
        "- If you want to perform dimension reduction, `nx` will be your desired target dimension. For example, to reduce dimension to 2 to plot low-dimensional visualizations of neural activity, you would use `nx=2`. Now if you want to reduce dimension while preservising as much behaviorally relevant neural dynamics as possible, you would use `n1=nx`. \n",
        "- If you want to find the best fit to data overall, you can perform a grid search over values of `nx` and `n1` and pick the value that achieves the best performance metric in the training data. For exmaple, you could pick the `nx` and `n1` pair that achieves the best cross-validated behavior decoding in an inner-cross-validation within the training data.\n",
        "\n",
        "# How to pick the horizon `i`?\n",
        "The horizon `i` does not affect the model structure and only affects the intermediate linear algebra operations that PSID performs during the learning of the model. Nevertheless, different values of `i` may have different model learning performance. `i` needs to be at least 2, but also also determines the maximum `n1` and `nx` that can be used per: \n",
        "```\n",
        "n1 <= nz * i\n",
        "nx <= ny * i\n",
        "```\n",
        "So if you have a low dimensional y or z, you typically would choose larger values for `i`, and vice versa. It is also possible to select the best performing `i` via an inner cross-validation approach similar to `nx` and `n1` above."
      ],
      "cell_type": "markdown",
      "metadata": {}
    },
    {
      "source": [
        "# Licence\n",
        "Copyright (c) 2020 University of Southern California  \n",
        "See full notice in [LICENSE.md](https://github.com/ShanechiLab/PyPSID/blob/main/LICENSE.md)  \n",
        "Omid G. Sani and Maryam M. Shanechi  \n",
        "Shanechi Lab, University of Southern California"
      ],
      "cell_type": "markdown",
      "metadata": {}
    }
  ]
}
{
 "cells": [
  {
   "cell_type": "markdown",
   "metadata": {
    "id": "isXmUBaxJanB"
   },
   "source": [
    "Written by: Parsa Vahidi, Omid G. Sani  \n",
    "Last update: Jan 10, 2024"
   ]
  },
  {
   "cell_type": "markdown",
   "metadata": {
    "id": "0pXbrXQPKQRF"
   },
   "source": [
    "# What is IPSID?\n",
    "\n",
    "IPSID stands for \"input preferential subspace identification\", a method for dynamic modeling of time-series data and prioritizing the dynamics shared with another time-series, while time-series observations are driven by an external input. It extends PSID by supporting external inputs in the models. \n",
    "\n",
    "For example, given signals $y_k$ (e.g. neural signals) and $z_k$ (e.g behavior) and $u_k$ (e.g, external input such as sensory stimuli), IPSID learns a dynamic model for $y_k$ that satisfy the following two capabilities:\n",
    "1) The intrinsic dynamics in $y_k$ (e.g. neural signals) are disentangled from dynamics of the external input (e.g., sensory information). This ensures that dynamics of external input are not misinterpreted as intrinsic dynamics in $y_k$. \n",
    "2) The intrinsic dynamics in $y_k$ that are relevant to $z_k$ (e.g behavior) are dissociated from other intrinsic dynamics in in $y_k$ and their learning is prioritized.\n",
    "\n",
    "## Publications\n",
    "\n",
    "For the full IPSID results in simulations and real neural data see the publication below:\n",
    "\n",
    "Parsa Vahidi*, Omid G. Sani*, Maryam M. Shanechi. *Modeling and dissociation of intrinsic and input-driven neural population dynamics underlying behavior*. **Proceedings of National Academy of Science (PNAS)** (2024). https://doi.org/10.1073/pnas.2212887121 \n",
    "\n",
    "<!--View-only full-text link: -->\n",
    "\n",
    "Original preprint: https://doi.org/10.1101/2023.03.14.532554\n",
    "\n",
    "<!-- You can also find a summary of the paper in the following Twitter thread:  -->\n",
    "\n",
    "\n",
    "For the related prior publication on PSID, see:\n",
    "\n",
    "Omid G. Sani, Hamidreza Abbaspourazad, Yan T. Wong, Bijan Pesaran, Maryam M. Shanechi. *Modeling behaviorally relevant neural dynamics enabled by preferential subspace identification*. **Nature Neuroscience** 24, 140–149 (2021). https://doi.org/10.1038/s41593-020-00733-0\n",
    "\n",
    "For a similar tutorial on PSID, see:\n",
    "https://github.dev/ShanechiLab/PyPSID/blob/main/source/PSID/example/PSID_tutorial.ipynb"
   ]
  },
  {
   "cell_type": "markdown",
   "metadata": {
    "id": "BSlPMSM5Ai3P"
   },
   "source": [
    "# Installing IPSID\n",
    "To use IPSID, you can either get the source code from [the PSID Github repository](https://github.com/ShanechiLab/PSID), or install it in your Python environment using pip:\n",
    "\n",
    "\n",
    "```\n",
    "pip install PSID\n",
    "```\n",
    "\n",
    "The above repository/library contain both PSID and IPSID. \n",
    "\n",
    "You can find the usage license in [LICENSE.md](https://github.com/ShanechiLab/PyPSID/blob/main/LICENSE.md). For this notebook, we will also start by installing PSID from pip."
   ]
  },
  {
   "cell_type": "code",
   "execution_count": 1,
   "metadata": {
    "colab": {
     "base_uri": "https://localhost:8080/"
    },
    "id": "DZFHrfUEAYmC",
    "outputId": "2c807175-d8ba-4c0f-f75e-cc191c653876"
   },
   "outputs": [
    {
     "name": "stderr",
     "output_type": "stream",
     "text": [
      "ERROR: Invalid requirement: '#'\n"
     ]
    },
    {
     "name": "stdout",
     "output_type": "stream",
     "text": [
      "Requirement already satisfied: PSID in c:\\codes\\envs\\py311tf213\\lib\\site-packages (1.2.2)\n",
      "Requirement already satisfied: numpy in c:\\codes\\envs\\py311tf213\\lib\\site-packages (from PSID) (1.24.3)\n",
      "Requirement already satisfied: scipy in c:\\codes\\envs\\py311tf213\\lib\\site-packages (from PSID) (1.11.1)\n",
      "Requirement already satisfied: scikit-learn in c:\\codes\\envs\\py311tf213\\lib\\site-packages (from PSID) (1.3.0)\n",
      "Requirement already satisfied: matplotlib in c:\\codes\\envs\\py311tf213\\lib\\site-packages (from PSID) (3.7.2)\n",
      "Requirement already satisfied: h5py in c:\\codes\\envs\\py311tf213\\lib\\site-packages (from PSID) (3.9.0)\n",
      "Requirement already satisfied: contourpy>=1.0.1 in c:\\codes\\envs\\py311tf213\\lib\\site-packages (from matplotlib->PSID) (1.1.0)\n",
      "Requirement already satisfied: cycler>=0.10 in c:\\codes\\envs\\py311tf213\\lib\\site-packages (from matplotlib->PSID) (0.11.0)\n",
      "Requirement already satisfied: fonttools>=4.22.0 in c:\\codes\\envs\\py311tf213\\lib\\site-packages (from matplotlib->PSID) (4.41.1)\n",
      "Requirement already satisfied: kiwisolver>=1.0.1 in c:\\codes\\envs\\py311tf213\\lib\\site-packages (from matplotlib->PSID) (1.4.4)\n",
      "Requirement already satisfied: packaging>=20.0 in c:\\codes\\envs\\py311tf213\\lib\\site-packages (from matplotlib->PSID) (23.1)\n",
      "Requirement already satisfied: pillow>=6.2.0 in c:\\codes\\envs\\py311tf213\\lib\\site-packages (from matplotlib->PSID) (10.0.0)\n",
      "Requirement already satisfied: pyparsing<3.1,>=2.3.1 in c:\\codes\\envs\\py311tf213\\lib\\site-packages (from matplotlib->PSID) (3.0.9)\n",
      "Requirement already satisfied: python-dateutil>=2.7 in c:\\codes\\envs\\py311tf213\\lib\\site-packages (from matplotlib->PSID) (2.8.2)\n",
      "Requirement already satisfied: joblib>=1.1.1 in c:\\codes\\envs\\py311tf213\\lib\\site-packages (from scikit-learn->PSID) (1.3.1)\n",
      "Requirement already satisfied: threadpoolctl>=2.0.0 in c:\\codes\\envs\\py311tf213\\lib\\site-packages (from scikit-learn->PSID) (3.2.0)\n",
      "Requirement already satisfied: six>=1.5 in c:\\codes\\envs\\py311tf213\\lib\\site-packages (from python-dateutil>=2.7->matplotlib->PSID) (1.16.0)\n"
     ]
    },
    {
     "name": "stderr",
     "output_type": "stream",
     "text": [
      "\n",
      "[notice] A new release of pip is available: 23.2.1 -> 24.0\n",
      "[notice] To update, run: python.exe -m pip install --upgrade pip\n"
     ]
    }
   ],
   "source": [
    "!pip uninstall PSID --yes # Just to make sure we will have the latest version\n",
    "!pip install PSID --upgrade"
   ]
  },
  {
   "cell_type": "markdown",
   "metadata": {
    "id": "KsDpingpAhpK"
   },
   "source": [
    "# Using IPSID\n",
    "## Modeling data with IPSID\n",
    "To use IPSID, you first need to import the library by running:\n",
    "```\n",
    "import PSID\n",
    "```\n",
    "You can then use its main data modeling function as:\n",
    "```\n",
    "idSys = PSID.IPSID(y, z, u, nx=nx, n1=n1, i=i)\n",
    "```\n",
    "With the following arguments:\n",
    "- `y` and `z` and `u` : Neural (e.g. LFP signal powers or spike counts) and behavioral data (e.g. hand position and velocity etc) and external input (e.g., task instruction sensory inputs) respectively. Dimensions are: time x data dimension (this can be changed with an optional argument documented in the code).\n",
    "- `nx`: the total dimension of the latent state in the model.\n",
    "- `n1`: the number of latent state dimensions that are going to be dedicated to behaviorally relevant neural dynamics.\n",
    "- `i`: the subspace horizon used for modeling. There is more on the choice of `i` later in this notebook, but numbers such as 5 or 10 are typically suitable values for `i`.\n",
    "\n",
    "And the following output:\n",
    "- `idSys`: an object containing all the learned model parameters ($A$, $B$, $C_y$, $D_y$, $C_z$, etc) and some prediction, etc methods. There is more on the model structure later in this notebook.\n",
    "\n",
    "## Modeling data with IPSID *with additional steps*\n",
    "IPSID function includes extra settings that are useful for enabling the two additional steps.\n",
    "1) *Additional step 1*: To enable, set remove_nonYrelated_fromX1=True and n_pre>0.\n",
    "In case the input, $u_k$ influences behavior $z_k$ through pathways/regions that are neither recorded nor reflected in the recorded activity $y_k$. In such case, additional step 1 enables further dissociation of the intrinsic behaviorally relevant dynamics present in the recorded neural activity $y_k$ from the input-driven dynamics of behavior $z_k$ not present in the recorded neural activity $y_k$.\n",
    "For more information on the additional steps please refer to the following section of (Vahidi, Sani, et al): *\"IPSID Can Dissociate the Effects of Input on Behavior that Are*\".\n",
    "\n",
    "\n",
    "To enable this additional step 1, simply pass the following additional arguments\n",
    "```\n",
    "idSys = PSID.IPSID(Y, Z, U, nx=nx, n1=n1, remove_nonYrelated_inX1=True, n_pre=n_pre, i=i);  # with additional step 1\n",
    "```\n",
    "With the following arguments in addition to those introduced earlier:\n",
    "- `remove_nonYrelated_inX1`: (default=False). If True and n_pre>0, enables *additional step 1*.\n",
    "- `n_pre`: (default=np.inf) preprocessing dimension in *additional step 1*. If n_pre=0, preprocessing won't happen and $x_k^{(3)}$ won't be learned. See the documentation in the function for more details.\n",
    "\n",
    "\n",
    "2) *Additional step 2* (optional): To enable, set remove_nonYrelated_fromX1=True and n_pre>0 and n3>0.\n",
    "This step is optional and can be used to extract latent states $x_k^{(3)}$ corresponding to the input-driven behavior dynamics not present in neural activity. Incorporating this step could enhance behavior decoding when the additional steps 1 is used.\n",
    "\n",
    "To also both additional steps, simply pass the following additional arguments (`n3`):\n",
    "```\n",
    "idSys = PSID.IPSID(Y, Z, U, nx=nx, n1=n1, remove_nonYrelated_inX1=True, n_pre=n_pre, n3=n3, i=i);  # with additional steps 1 and 2\n",
    "```\n",
    "- `n3`: (default=0) number of latent states $x_k^{(3)}$ in the optional *additional steps 2*.\n",
    "\n",
    " \n",
    "## Using the model for Inference i.e., state estimation, and decoding\n",
    "For a learned PSID model `idSys`, you can use the `predict` method to extract the latent state (`xPred`) and predict behavior (`zPred`) and neural activity (`yPred`) given any new neural data ($y_k$) and external input data ($u_k$) as:\n",
    "```\n",
    "zPred, yPred, xPred = idSys.predict(yTest, uTest)\n",
    "```\n",
    "With the argument:\n",
    "- `yTest`: Neural activity `y` in the test data. Dimensions are: time x data dimension.\n",
    "- `uTest`: Neural activity `u` in the test data. Dimensions are: time x data dimension.\n",
    "\n",
    "And outputs (all dimensions are time x data dimension):\n",
    "- `zPred`: Prediction of behavior using past neural activity and input at each data point.\n",
    "- `yPred`: Prediction of neural activity using past neural activity and input at each data point.\n",
    "- `xPred`: The latent state extracted at each data point.\n",
    "\n",
    "We will next go through a complete example of using IPSID in data.\n",
    "\n",
    "# A complete example for using IPSID\n",
    "In this example, we will use IPSID to model some data. First, we import PSID and a few other useful tools from PSID and other libraries.\n",
    "Example for using IPSID *with additional steps* is provided later in the notebook."
   ]
  },
  {
   "cell_type": "code",
   "execution_count": 2,
   "metadata": {
    "id": "bcBhkYe_Bt22"
   },
   "outputs": [],
   "source": [
    "%load_ext autoreload\n",
    "%autoreload 2\n",
    "\n",
    "import argparse, sys, os\n",
    "sys.path.insert(0, os.path.join('..', '..'))\n",
    "\n",
    "import numpy as np\n",
    "import matplotlib.pyplot as plt\n",
    "from matplotlib import patches\n",
    "\n",
    "import PSID\n",
    "from PSID.evaluation import evalPrediction\n",
    "from PSID.MatHelper import loadmat"
   ]
  },
  {
   "cell_type": "markdown",
   "metadata": {},
   "source": [
    "Let's start by loading an example model:"
   ]
  },
  {
   "cell_type": "code",
   "execution_count": 3,
   "metadata": {
    "colab": {
     "base_uri": "https://localhost:8080/"
    },
    "id": "2DSKNITZB4r-",
    "outputId": "a33507ed-9df3-4041-d227-06b0e6317125"
   },
   "outputs": [
    {
     "name": "stdout",
     "output_type": "stream",
     "text": [
      "Loading example model from c:\\codes\\Repos\\PSID\\PyPSID-Main\\source\\PSID\\example\\..\\..\\PSID\\example\\sample_model_IPSID.mat\n"
     ]
    }
   ],
   "source": [
    "# Load data\n",
    "sample_model_path = os.path.join(os.path.dirname(PSID.__file__), 'example', 'sample_model_IPSID.mat')\n",
    "                 \n",
    "print('Loading example model from {}'.format(sample_model_path))\n",
    "data = loadmat(sample_model_path)\n",
    "# This is an example model (shown in Fig. 2A) with \n",
    "# (a) 2 behaviorally relevant latent states $x_k^{(1)}$, (corresponding to intrinsic behaviorally relevant dynamics)\n",
    "# (b) 4 other latent states $x_k^{(2)}$ (corresponding to other intrinsic dynamics)\n",
    "# (c) 2 states that drive the external input (corresponding to input dynamics)"
   ]
  },
  {
   "cell_type": "markdown",
   "metadata": {
    "id": "TKjZYzGV4Oya"
   },
   "source": [
    "The IPSID model looks like this:\n",
    "\n",
    "$$ x_{k+1} = A x_k + B u_k + w_k $$  \n",
    "\n",
    "$$ y_k = C_y x_k + D_y u_k + v_k $$  \n",
    "\n",
    "$$ z_k = C_z x_k + Dz u_k + \\epsilon_k $$  \n",
    "\n",
    "where $y_k \\in \\!R^{n_y}$ is the neural activity, $z_k \\in \\!R^{n_z}$ is the behavior, $u_k \\in \\!R^{n_u}$ is the external input and $x_k \\in \\!R^{n_x}$ is the latent state the describes the dynamics in both. Note that in general $y_k$ and $z_k$ could also be any other two signals (e.g. brain activity from two regions or even non-neural signals), but here we will refer these signals as neural activity and behavior, respectively. Importantly, IPSID learns the model in the following format\n",
    "\n",
    "$$\n",
    "x_k = \\begin{bmatrix}\n",
    "x_k^{(1)} \\\\\n",
    "x_k^{(2)}\n",
    "\\end{bmatrix}\n",
    "$$\n",
    "\n",
    "where the behaviorally relevant dimensions of latent state ($x_k^{(1)} \\in \\!R^{n_1}$), which are those that drive $z_k$, are separated from the other dimensions ($x_k^{(2)} \\in \\!R^{n_2}$ with $n_2=n_x-n_1$). There are many equivalent ways of writing a latent state model such as this one, but IPSID learns the one that uses minimal number of dimensions to explain behavior as parsimoniously as possible. Critically, IPSID can learn this minimal model (with only $x_k^{(1)}$) without having to also learn the rest of the model (the $x_k^{(2)}$ part). This is the concept of prioritization and allows IPSID to learn the model more accurately, while requiring fewer training samples.\n",
    "\n",
    "\n",
    "Before going further, let's generate some sample data from this model."
   ]
  },
  {
   "cell_type": "code",
   "execution_count": 4,
   "metadata": {
    "id": "-9bAIpLC4LaE"
   },
   "outputs": [],
   "source": [
    "# Generating some sample data from this model\n",
    "np.random.seed(42) # For exact reproducibility\n",
    "\n",
    "# Prepare models\n",
    "# Model of the dynamical input u\n",
    "uSys = PSID.LSSM(params=data['uSys'])\n",
    "\n",
    "# Model of the intrinsic dynamics\n",
    "trueSys = PSID.LSSM(params=data['trueSys'])\n",
    "trueSys.Dz = trueSys.dz\n",
    "\n",
    "# Model of the z (behavior) dynamics that are not encoded in y (neural data), i.e. epsilon.\n",
    "epsSys = PSID.LSSM(params=data['epsSys'])\n",
    "\n",
    "def generate_data(N):\n",
    "    u, _ = uSys.generateRealization(N)\n",
    "    y, x = trueSys.generateRealization(N, u=u)\n",
    "    z = (trueSys.Cz @ x.T).T + (trueSys.Dz @ u.T).T \n",
    "\n",
    "    _, x_eps = epsSys.generateRealization(N)\n",
    "    z += (epsSys.Cz @ x_eps.T).T\n",
    "    return y, z, u\n",
    "\n",
    "N = int(2e5)\n",
    "allYData, allZData, allUData = generate_data(N)"
   ]
  },
  {
   "cell_type": "markdown",
   "metadata": {},
   "source": [
    "Given the above state-space model used by IPSID, it is important for the neural/behavior/input data to be zero-mean. \n",
    "IPSID by default internally removes the mean from the neural/behavior/input data and adds\n",
    "it back to neural/behavior predictions, so the user does not need to handle this preprocessing. If the data is already zero-mean,\n",
    "this mean-removal will simply subtract and add zeros to signals so everything will still work.\n",
    "To cover this general case with data that is not zero-mean, let's artificially add some non-zero mean to the sample data:"
   ]
  },
  {
   "cell_type": "code",
   "execution_count": 5,
   "metadata": {},
   "outputs": [],
   "source": [
    "# Just for this simulation, let's artificially add some non-zero mean to the sample data to cover the general case with non-zero-mean data:\n",
    "YMean = 10*np.random.randn(allYData.shape[-1])\n",
    "ZMean = 10*np.random.randn(allZData.shape[-1])\n",
    "UMean = 10*np.random.randn(allUData.shape[-1])\n",
    "allYData += YMean\n",
    "allZData += ZMean\n",
    "allUData += UMean\n",
    "\n",
    "# Also save data means in the true model:\n",
    "from PSID.PrepModel import PrepModel\n",
    "trueSys.YPrepModel = PrepModel(mean=YMean, remove_mean=True)\n",
    "trueSys.ZPrepModel = PrepModel(mean=ZMean, remove_mean=True)\n",
    "trueSys.UPrepModel = PrepModel(mean=UMean, remove_mean=True)"
   ]
  },
  {
   "cell_type": "markdown",
   "metadata": {
    "id": "CQWYLQuwGWGY"
   },
   "source": [
    "Let's separate the data into training and test segments."
   ]
  },
  {
   "cell_type": "code",
   "execution_count": 6,
   "metadata": {
    "id": "eiefXAMyExUa"
   },
   "outputs": [],
   "source": [
    "# Separate data into training and test data:\n",
    "trainInds = np.arange(np.round(0.5*allYData.shape[0]), dtype=int)\n",
    "testInds = np.arange(1+trainInds[-1], allYData.shape[0])\n",
    "yTrain = allYData[trainInds, :]\n",
    "yTest = allYData[testInds, :]\n",
    "zTrain = allZData[trainInds, :]\n",
    "zTest = allZData[testInds, :]\n",
    "uTrain = allUData[trainInds, :]\n",
    "uTest = allUData[testInds, :]"
   ]
  },
  {
   "cell_type": "markdown",
   "metadata": {
    "id": "5_HZ9Xd_G7ew"
   },
   "source": [
    "We will next use IPSID in two ways:  \n",
    "1. Learn a model with a low-dimensional latent state that only focuses on learning the intrinsic behaviorally relevant neural dynamics (i.e. uses stage 1 of IPSID only).  \n",
    "2. Learn a model that also learns other intrinsic neural dynamics (i.e. uses both stages of IPSID)\n",
    "\n",
    "We will then plot the learned models' eigenvalues (the eigenvalues of the $A$ matrix) to show that IPSID learns the correct dynamics in each case.\n",
    "\n",
    "First, let's learn a model with a 2 dimensional latent state that only learns the behaviorally relevant neural dynamics. For this, we pass the arguments nx=2 and n1=2 to the IPSID function:"
   ]
  },
  {
   "cell_type": "code",
   "execution_count": 7,
   "metadata": {
    "colab": {
     "base_uri": "https://localhost:8080/"
    },
    "id": "KeAWDK3sGfmr",
    "outputId": "39967d6f-e864-4236-8c87-8af7dd489f1e"
   },
   "outputs": [],
   "source": [
    "## (Example 1) IPSID can be used to dissociate and extract only the \n",
    "# intrinsic behaviorally relevant latent states (with nx = n1 = 2)\n",
    "idSys1 = PSID.IPSID(yTrain, zTrain, uTrain, nx=2, n1=2, i=10)\n",
    "# You can also use the time_first=False argument if time is the second dimension:\n",
    "# idSys1 = PSID.IPSID(yTrain.T, zTrain.T, uTrain.T, nx=2, n1=2, i=10, time_first=False) "
   ]
  },
  {
   "cell_type": "markdown",
   "metadata": {},
   "source": [
    "The IPSID learning function returns an object (here idSys1) that contains the learned model parameters and can be used to extract the latent states and decode behavior in new data. To do this, we use the 'predict' method in the learned model:"
   ]
  },
  {
   "cell_type": "code",
   "execution_count": 8,
   "metadata": {},
   "outputs": [
    {
     "name": "stdout",
     "output_type": "stream",
     "text": [
      "Behavior decoding R2:\n",
      "  IPSID => 0.918, Ideal using true model => 0.925\n"
     ]
    }
   ],
   "source": [
    "# Predict behavior using the learned model\n",
    "zTestPred1, yTestPred1, xTestPred1 = idSys1.predict(yTest, uTest)\n",
    "\n",
    "# Compute R2 of decoding\n",
    "R2 = evalPrediction(zTest, zTestPred1, 'R2')\n",
    "\n",
    "# Predict behavior using the true model for comparison\n",
    "zTestPredIdeal, yTestPredIdeal, xTestPredIdeal = trueSys.predict(yTest, uTest)\n",
    "R2Ideal = evalPrediction(zTest, zTestPredIdeal, 'R2')\n",
    "\n",
    "print('Behavior decoding R2:\\n  IPSID => {:.3g}, Ideal using true model => {:.3g}'.format(np.mean(R2), np.mean(R2Ideal)) )"
   ]
  },
  {
   "cell_type": "markdown",
   "metadata": {
    "id": "LfhHQ3hQKkeq"
   },
   "source": [
    "We can see that the IPSID model with a 2D latent state is as accurate in explaining behavior as the full model that has a 6D latent state. This is because the other 4 latent state dimensions in the true model explain intrinsic dynamics that are exclusive to neural activity (i.e. are not behaviorally relevant).\n",
    "\n",
    "Optionally, IPSID can also learn other latent states beyond the behaviorally relevant ones. For this, we pass the arguments nx=6 and n1=2 to the IPSID function:"
   ]
  },
  {
   "cell_type": "code",
   "execution_count": 9,
   "metadata": {
    "colab": {
     "base_uri": "https://localhost:8080/"
    },
    "id": "a2chTfdSKW5d",
    "outputId": "2ad2af37-c80b-4a1b-dfba-9039a56ce8e0"
   },
   "outputs": [
    {
     "name": "stdout",
     "output_type": "stream",
     "text": [
      "Neural self-prediction R2:\n",
      "  IPSID => 0.753, Ideal using true model => 0.753\n"
     ]
    }
   ],
   "source": [
    "## (Example 2) Optionally, IPSID can additionally also learn the \n",
    "# behaviorally irrelevant latent states (with nx = 6, n1 = 2)\n",
    "idSys2 = PSID.IPSID(yTrain, zTrain, uTrain, nx=6, n1=2, i=10)\n",
    "\n",
    "# In addition to ideal behavior decoding, this model will also have ideal neural self-prediction \n",
    "zTestPred2, yTestPred2, xTestPred2 = idSys2.predict(yTest, uTest)\n",
    "yR2 = evalPrediction(yTest, yTestPred2, 'R2')\n",
    "yR2Ideal = evalPrediction(yTest, yTestPredIdeal, 'R2')\n",
    "print('Neural self-prediction R2:\\n  IPSID => {:.3g}, Ideal using true model => {:.3g}'.format(np.mean(yR2), np.mean(yR2Ideal)))"
   ]
  },
  {
   "cell_type": "markdown",
   "metadata": {
    "id": "LDvqwXjRLKgj"
   },
   "source": [
    "We can see that in this case, the model learned by IPSID (which now has a 6D latent state) is also as good as the true model in terms of explaining neural activity. \n",
    "\n",
    "\n",
    "Finally, we can plot the eigenvalues of the $A$ matrix in each of the learned models and compare them with the eigenvalues of the $A$ matrix in the true model to see the accurate learning of intrinsic behaviorally relevant (and optionally the other intrinsic) dynamics by IPSID. "
   ]
  },
  {
   "cell_type": "code",
   "execution_count": 10,
   "metadata": {
    "colab": {
     "base_uri": "https://localhost:8080/",
     "height": 281
    },
    "id": "rglPnehvLJ-2",
    "outputId": "57690508-4203-4361-bd15-25056eff6395"
   },
   "outputs": [
    {
     "data": {
      "image/png": "[encoded data removed]",
      "text/plain": [
       "<Figure size 800x400 with 1 Axes>"
      ]
     },
     "metadata": {},
     "output_type": "display_data"
    }
   ],
   "source": [
    "# #########################################\n",
    "# Plot the true and identified eigenvalues    \n",
    "\n",
    "# (Example 1) Eigenvalues when only learning behaviorally relevant states\n",
    "idEigs1 = np.linalg.eig(idSys1.A)[0]\n",
    "\n",
    "# (Example 2) Additional eigenvalues when also learning behaviorally irrelevant states\n",
    "# The identified model is already in form of Eq. 1, with behaviorally irrelevant states \n",
    "# coming as the last 4 dimensions of the states in the identified model\n",
    "idEigs2 = np.linalg.eig(idSys2.A[2:, 2:])[0]\n",
    "\n",
    "relevantDims = trueSys.zDims - 1 # Dimensions that drive both behavior and neural activity\n",
    "irrelevantDims = [x for x in np.arange(trueSys.state_dim, dtype=int) if x not in relevantDims] # Dimensions that only drive the neural activity\n",
    "trueEigsRelevant = np.linalg.eig(trueSys.A[np.ix_(relevantDims, relevantDims)])[0]\n",
    "trueEigsIrrelevant = np.linalg.eig(trueSys.A[np.ix_(irrelevantDims, irrelevantDims)])[0]\n",
    "trueEigsInput = np.linalg.eig(uSys.A)[0]\n",
    "\n",
    "fig = plt.figure(figsize=(8, 4))\n",
    "axs = fig.subplots(1, 2)\n",
    "axs[1].remove() \n",
    "ax = axs[0]\n",
    "ax.axis('equal')\n",
    "ax.add_patch( patches.Circle((0,0), radius=1, fill=False, color='black', alpha=0.2, ls='-') )\n",
    "ax.plot([-1,1,0,0,0], [0,0,0,-1,1], color='black', alpha=0.2, ls='-')\n",
    "ax.scatter(np.real(trueEigsInput), np.imag(trueEigsInput), marker='o', edgecolors='#800080', facecolors='none', label='Input eigenvalues')\n",
    "ax.scatter(np.real(trueEigsIrrelevant), np.imag(trueEigsIrrelevant), marker='o', edgecolors='#FF5733', facecolors='none', label='Other neural eigenvalues')\n",
    "ax.scatter(np.real(trueEigsRelevant), np.imag(trueEigsRelevant), marker='o', edgecolors='#50C878', facecolors='none', label='Behaviorally relevant neural eigenvalues')\n",
    "ax.scatter(np.real(idEigs1), np.imag(idEigs1), marker='x', facecolors='#138a33', label='IPSID Identified (stage 1)')\n",
    "ax.scatter(np.real(idEigs2), np.imag(idEigs2), marker='x', facecolors='#b04c1a', label='(optional) IPSID Identified (stage 2)')\n",
    "ax.set_title('True and identified eigevalues')\n",
    "ax.legend(bbox_to_anchor=(1.04,0.5), loc=\"center left\", borderaxespad=0)\n",
    "plt.show()"
   ]
  },
  {
   "cell_type": "markdown",
   "metadata": {
    "id": "OIg0PhNeFcyj"
   },
   "source": [
    "# Using IPSID with trial based data\n",
    "You can also use IPSID if the data is available in separate chunks, for example across many trials. To do this, simply pass a python list with the data in each chunk/trial as the argument to IPSID. The trials don't need to have the same number of samples either. \n",
    "\n",
    "Below is an example, where we break the same data as before in small chunks of random length, and then pass it to IPSID."
   ]
  },
  {
   "cell_type": "code",
   "execution_count": 11,
   "metadata": {
    "colab": {
     "base_uri": "https://localhost:8080/"
    },
    "id": "-McGIeBhE90J",
    "outputId": "91fa16cf-aa58-4688-e695-5c675dd12886"
   },
   "outputs": [
    {
     "name": "stdout",
     "output_type": "stream",
     "text": [
      "Behavior decoding R2 (trial-based learning/decoding):\n",
      "  IPSID => 0.919, Ideal using true model = 0.92\n"
     ]
    }
   ],
   "source": [
    "## (Example 3) IPSID can be used if data is available in discontinuous segments (e.g. different trials)\n",
    "# In this case, y, z and u data segments must be provided as elements of a list\n",
    "# Trials do not need to have the same number of samples\n",
    "# Here, for example assume that trials start at every 1000 samples.\n",
    "# And each each trial has a random length of 900 to 990 samples\n",
    "trialStartInds = np.arange(0, allYData.shape[0]-1000, 1000)\n",
    "trialDurRange = np.array([900, 990])\n",
    "trialDur = np.random.randint(low=trialDurRange[0], high=1+trialDurRange[1], size=trialStartInds.shape)\n",
    "\n",
    "# We can cut the same data into trials\n",
    "# trialInds = [trialStartInds[ti]+np.arange(trialDur[ti]) for ti in range(trialStartInds.size)] \n",
    "# yTrials = [allYData[trialIndsThis, :] for trialIndsThis in trialInds] \n",
    "# zTrials = [allZData[trialIndsThis, :] for trialIndsThis in trialInds] \n",
    "# uTrials = [allUData[trialIndsThis, :] for trialIndsThis in trialInds] \n",
    "\n",
    "# Or alternatively we can generate some new trial based data, which would give the data a more\n",
    "# realistic consistency in how each trial starts\n",
    "yTrials, zTrials, uTrials = [], [], []\n",
    "for trial_samples in trialDur:\n",
    "    yThis, zThis, uThis = generate_data(trial_samples)\n",
    "    yTrials.append(yThis) # We don't need to add YMean to y since it is already added by trueSys2's YPredModel\n",
    "    zTrials.append(zThis+ZMean)\n",
    "    uTrials.append(uThis+UMean)\n",
    "\n",
    "# Separate trials into training and test trials:\n",
    "trainInds = np.arange(np.round(0.5*len(yTrials)), dtype=int)\n",
    "testInds = np.arange(1+trainInds[-1], len(yTrials))\n",
    "yTrainTrials = [yTrials[ti] for ti in trainInds]\n",
    "yTestTrials = [yTrials[ti] for ti in testInds]\n",
    "zTrainTrials = [zTrials[ti] for ti in trainInds]\n",
    "zTestTrials = [zTrials[ti] for ti in testInds]\n",
    "uTrainTrials = [uTrials[ti] for ti in trainInds]\n",
    "uTestTrials = [uTrials[ti] for ti in testInds]\n",
    "\n",
    "idSys3 = PSID.IPSID(yTrainTrials, zTrainTrials, uTrainTrials, nx=2, n1=2, i=10)\n",
    "\n",
    "zPredTrials, yPredTrials, xPredTrials = idSys3.predict(yTestTrials, uTestTrials)\n",
    "zPredTrialsIdeal, yPredTrialsIdeal, xPredTrialsIdeal = trueSys.predict(yTestTrials, uTestTrials)\n",
    "zTestA = np.concatenate( zTestTrials, axis=0)\n",
    "zPredA = np.concatenate( zPredTrials, axis=0)\n",
    "zPredIdealA = np.concatenate( zPredTrialsIdeal, axis=0)\n",
    "\n",
    "R2TrialBased = evalPrediction(zTestA, zPredA, 'R2')\n",
    "R2TrialBasedIdeal = evalPrediction(zTestA, zPredIdealA, 'R2')\n",
    "\n",
    "print('Behavior decoding R2 (trial-based learning/decoding):\\n  IPSID => {:.3g}, Ideal using true model = {:.3g}'.format(np.mean(R2TrialBased), np.mean(R2TrialBasedIdeal)) )"
   ]
  },
  {
   "cell_type": "markdown",
   "metadata": {},
   "source": [
    "# How to pick the state dimensions `nx` and `n1`?\n",
    "`nx` determines the total dimension of the latent state and `n1` determines how many of those dimensions will be prioritizing the inclusion of behaviorally relevant neural dynamics (i.e. will be extracted using stage 1 of IPSID). So the values that you would select for these hyperparameters depend on the goal of modeling and on the data. Some examples use cases are:\n",
    "- If you want to perform dimension reduction, `nx` will be your desired target dimension. For example, to reduce dimension to 2 to plot low-dimensional visualizations of neural activity, you would use `nx=2`. Now if you want to reduce dimension while preserving as much behaviorally relevant neural dynamics as possible, you would use `n1=nx`. \n",
    "- If you want to find the best fit to data overall, you can perform a grid search over values of `nx` and `n1` and pick the value that achieves the best performance metric in the training data. For example, you could pick the `nx` and `n1` pair that achieves the best cross-validated behavior decoding in an inner-cross-validation within the training data.\n",
    "\n",
    "# How to pick the horizon `i`?\n",
    "The horizon `i` does not affect the model structure and only affects the intermediate linear algebra operations that IPSID performs during the learning of the model. Nevertheless, different values of `i` may have different model learning performance. `i` needs to be at least 2, but also also determines the maximum `n1` and `nx` that can be used per: \n",
    "```\n",
    "n1 <= nz * i\n",
    "nx <= ny * i\n",
    "```\n",
    "So if you have a low dimensional y or z, you typically would choose larger values for `i`, and vice versa. It is also possible to select the best performing `i` via an inner cross-validation approach similar to `nx` and `n1` above."
   ]
  },
  {
   "cell_type": "markdown",
   "metadata": {},
   "source": [
    "# A complete example for using IPSID *with additional steps*\n",
    "In this example, we will use IPSID and its *additional steps* to model some data. "
   ]
  },
  {
   "cell_type": "markdown",
   "metadata": {},
   "source": [
    "Let's start by loading another example model where the external input $u_k$ additionally influences behavior $z_k$ through pathways not reflected in recorded neural activity $y_k$."
   ]
  },
  {
   "cell_type": "code",
   "execution_count": 12,
   "metadata": {},
   "outputs": [
    {
     "name": "stdout",
     "output_type": "stream",
     "text": [
      "Loading example model from c:\\codes\\Repos\\PSID\\PyPSID-Main\\source\\PSID\\example\\..\\..\\PSID\\example\\sample_model_IPSID_add_step.mat\n"
     ]
    }
   ],
   "source": [
    "# Load data\n",
    "sample_model_path = os.path.join(os.path.dirname(PSID.__file__), 'example', 'sample_model_IPSID_add_step.mat')\n",
    "print('Loading example model from {}'.format(sample_model_path))\n",
    "data2 = loadmat(sample_model_path)\n",
    "# This is an example model (shown in Fig. 3) with \n",
    "# (a) 2 behaviorally relevant latent states, x_k^(1), encoded in neural activity y_k (corresponding to intrinsic behaviorally relevant neural dynamics), \n",
    "# (b) 2 other latent states, x_k^(2), encoded in neural activity y_k (corresponding to other intrinsic dynamics),\n",
    "# (c) 2 states that drive the external input (corresponding to input dynamics)\n",
    "# (d) 2 behaviorally relevant latent states, x_k^(3), driven by the input u_k but not encoded in neural activity y_k"
   ]
  },
  {
   "cell_type": "markdown",
   "metadata": {},
   "source": [
    "In this scenario, the  IPSID model including *additional steps* looks like this:\n",
    "\n",
    "$$ x_{k+1} = A x_k + B u_k + w_k $$  \n",
    "\n",
    "$$ y_k = C_y x_k + D_y u_k + v_k $$  \n",
    "\n",
    "$$ z_k = C_z x_k + Dz u_k + \\epsilon_k $$  \n",
    "\n",
    "where as before, $y_k \\in \\!R^{n_y}$ is the neural activity, $z_k \\in \\!R^{n_z}$ is the behavior, $u_k \\in \\!R^{n_u}$ is the external input and $x_k \\in \\!R^{n_x}$ is the latent state the describes the dynamics in both. But importantly, IPSID *with additional steps* learns the model in the following format\n",
    "\n",
    "$$\n",
    "x_k = \\begin{bmatrix}\n",
    "x_k^{(1)} \\\\\n",
    "x_k^{(2)} \\\\\n",
    "x_k^{(3)}\n",
    "\\end{bmatrix}\n",
    "$$\n",
    "\n",
    "where in addition to before, the dimensions of latent state that drive $z_k$ but not $y_k$ ($x_k^{(3)} \\in \\!R^{n_3}$) are further modeled and separated from the dimensions of latent state that drive both $y_k$ and $z_k$ ($x_k^{(1)} \\in \\!R^{n_1}$).\n",
    "\n",
    "\n",
    "Before going further, let's generate some sample data from this model."
   ]
  },
  {
   "cell_type": "code",
   "execution_count": 13,
   "metadata": {},
   "outputs": [],
   "source": [
    "# Generating some sample data from this model\n",
    "np.random.seed(42) # For exact reproducibility\n",
    "\n",
    "# Prepare models\n",
    "# Model of the dynamical input u\n",
    "uSys2 = PSID.LSSM(params=data2['uSys'])\n",
    "Au = uSys2.A\n",
    "\n",
    "# Model of the intrinsic dynamics\n",
    "trueSys2 = PSID.LSSM(params=data2['trueSys'])\n",
    "\n",
    "def generate_data2(N):\n",
    "    u, _ = uSys2.generateRealization(N)\n",
    "    y, x = trueSys2.generateRealization(N, u=u)\n",
    "    z = (trueSys2.Cz @ x.T).T\n",
    "    \n",
    "    return y, z, u\n",
    "\n",
    "N = int(2e5)\n",
    "allYData, allZData, allUData = generate_data2(N)"
   ]
  },
  {
   "cell_type": "markdown",
   "metadata": {},
   "source": [
    "Given the above state-space model used by IPSID, it is important for the neural/behavior/input data to be zero-mean. \n",
    "IPSID by default internally removes the mean from the neural/behavior/input data and adds\n",
    "it back to neural/behavior predictions, so the user does not need to handle this preprocessing. If the data is already zero-mean,\n",
    "this mean-removal will simply subtract and add zeros to signals so everything will still work.\n",
    "To cover this general case with data that is not zero-mean, let's artificially add some non-zero mean to the sample data:"
   ]
  },
  {
   "cell_type": "code",
   "execution_count": 14,
   "metadata": {},
   "outputs": [],
   "source": [
    "YMean = 10*np.random.randn(allYData.shape[-1])\n",
    "ZMean = 10*np.random.randn(allZData.shape[-1])\n",
    "UMean = 10*np.random.randn(allUData.shape[-1])\n",
    "allYData += YMean\n",
    "allZData += ZMean\n",
    "allUData += UMean\n",
    "\n",
    "# Also reflect this in the true model:\n",
    "from PSID.PrepModel import PrepModel\n",
    "trueSys2.YPrepModel = PrepModel(mean=YMean, remove_mean=True)\n",
    "trueSys2.ZPrepModel = PrepModel(mean=ZMean, remove_mean=True)\n",
    "trueSys2.UPrepModel = PrepModel(mean=UMean, remove_mean=True)"
   ]
  },
  {
   "cell_type": "markdown",
   "metadata": {},
   "source": [
    "Let's separate the data into training and test segments."
   ]
  },
  {
   "cell_type": "code",
   "execution_count": 15,
   "metadata": {},
   "outputs": [],
   "source": [
    "trainInds = np.arange(np.round(0.5*allYData.shape[0]), dtype=int)\n",
    "testInds = np.arange(1+trainInds[-1], allYData.shape[0])\n",
    "yTrain = allYData[trainInds, :]\n",
    "yTest = allYData[testInds, :]\n",
    "zTrain = allZData[trainInds, :]\n",
    "zTest = allZData[testInds, :]\n",
    "uTrain = allUData[trainInds, :]\n",
    "uTest = allUData[testInds, :]"
   ]
  },
  {
   "cell_type": "markdown",
   "metadata": {},
   "source": [
    "We will next use IPSID  in two ways:  \n",
    "1. Learn a model with a low-dimensional latent state that only focuses on learning the intrinsic behaviorally relevant neural dynamics (i.e., uses both stages of IPSID and *additional steps 1 only*).  \n",
    "2. Learn a model that also learns other intrinsic neural dynamics (i.e., uses both stages of IPSID and both *additional steps 1, 2*)\n",
    "\n",
    "We will then plot the learned models' eigenvalues (the eigenvalues of the $A$ matrix) to show that IPSID *with additional steps* learns the correct dynamics in each case."
   ]
  },
  {
   "cell_type": "markdown",
   "metadata": {},
   "source": [
    "First let's learn a model that includes all three type of states $x_k^{(1)}$, $x_k^{(2)}$, $x_k^{(3)}$. To do so, we pass the arguments `nx=6`, `n1=2`, `n3=2`, `remove_nonYrelated_fromX1=True`, and `n_pre=4`. `n_pre` should be equal to the total number of dimensions driving neural activity $y_k$ (which in this example is dim($x_k^{(1)}$)+dim($x_k^{(2)}$) = 2 + 2 = 4). "
   ]
  },
  {
   "cell_type": "code",
   "execution_count": 16,
   "metadata": {},
   "outputs": [],
   "source": [
    "# all latent states [x1;x2,x3] (with nx=6, n1=2, n3=2)\n",
    "idSys4 = PSID.IPSID(yTrain, zTrain, uTrain, nx=6, n1=2, i=10, remove_nonYrelated_fromX1=True, n_pre=4, n3=2) # n_pre should be equal to true n1+true n2"
   ]
  },
  {
   "cell_type": "markdown",
   "metadata": {},
   "source": [
    "Next, we only use the *first additional step* and exclude *additional step 2* (which means excluding $x_k^{(3)}$). To do so, we pass the arguments `nx=4`, `n1=2`, `n3=0`, `remove_nonYrelated_fromX1=True`, and `n_pre=4`. "
   ]
  },
  {
   "cell_type": "code",
   "execution_count": 17,
   "metadata": {},
   "outputs": [],
   "source": [
    "# For comparison, let's also learn a model without the additional step 2 (only [x1;x2])\n",
    "idSys4_low_dim = PSID.IPSID(yTrain, zTrain, uTrain, nx=4, n1=2, i=10, remove_nonYrelated_fromX1=True, n_pre=4, n3=0) # n_pre should be equal to true n1+true n2"
   ]
  },
  {
   "cell_type": "markdown",
   "metadata": {},
   "source": [
    "We now perform inference using both learned models and compare to the ideal performance obtained by using the know true model."
   ]
  },
  {
   "cell_type": "code",
   "execution_count": 18,
   "metadata": {},
   "outputs": [
    {
     "name": "stdout",
     "output_type": "stream",
     "text": [
      "Behavior decoding R2:\n",
      "  IPSID => 0.93, IPSID (without additional step 2) => 0.473, Ideal using true model => 0.985\n",
      "Neural self-prediction R2:\n",
      "  IPSID => 0.985, IPSID (without additional step 2) => 0.985, Ideal using true model => 0.988\n"
     ]
    }
   ],
   "source": [
    "# Predict behavior and neural activity using the learned model with both additional steps\n",
    "zTestPred4, yTestPred4, xTestPred3 = idSys4.predict(yTest, uTest)\n",
    "# Compute R2 of decoding and neural self-prediction\n",
    "R2 = evalPrediction(zTest, zTestPred4, 'R2')\n",
    "yR2 = evalPrediction(yTest, yTestPred4, 'R2')\n",
    "\n",
    "# Predict behavior and neural activity using the learned model without additional step 2\n",
    "zTestPred4_low_dim, yTestPred4_low_dim, xTestPred4_low_dim = idSys4_low_dim.predict(yTest, uTest)\n",
    "R2_low_dim = evalPrediction(zTest, zTestPred4_low_dim, 'R2')\n",
    "yR2_low_dim = evalPrediction(yTest, yTestPred4_low_dim, 'R2')\n",
    "\n",
    "# Predict using the true model for comparison\n",
    "zTestPredIdeal, yTestPredIdeal, xTestPredIdeal = trueSys2.predict(yTest, uTest)\n",
    "R2Ideal = evalPrediction(zTest, zTestPredIdeal, 'R2')\n",
    "yR2Ideal = evalPrediction(yTest, yTestPredIdeal, 'R2')\n",
    "\n",
    "print('Behavior decoding R2:\\n  IPSID => {:.3g}, IPSID (without additional step 2) => {:.3g}, Ideal using true model => {:.3g}'.format(np.mean(R2), np.mean(R2_low_dim), np.mean(R2Ideal)) )\n",
    "print('Neural self-prediction R2:\\n  IPSID => {:.3g}, IPSID (without additional step 2) => {:.3g}, Ideal using true model => {:.3g}'.format(np.mean(yR2), np.mean(yR2_low_dim), np.mean(yR2Ideal)) )\n"
   ]
  },
  {
   "cell_type": "markdown",
   "metadata": {},
   "source": [
    "We can see that, both models self-predict neural activity as accurately as the true model. Also, the model learned by IPSID with both additional steps boosts the behavior decoding performance compared to the one without additional step 2.\n",
    "\n",
    "Finally, we can plot the eigenvalues of the $A$ matrix in each of the learned models and compare them with the eigenvalues of the $A$ matrix in the true model to see the accurate learning of intrinsic behaviorally relevant (and optionally the other) intrinsic dynamics by IPSID *with additional steps*."
   ]
  },
  {
   "cell_type": "code",
   "execution_count": 19,
   "metadata": {},
   "outputs": [
    {
     "data": {
      "image/png": "[encoded data removed]",
      "text/plain": [
       "<Figure size 800x400 with 1 Axes>"
      ]
     },
     "metadata": {},
     "output_type": "display_data"
    }
   ],
   "source": [
    "# Plot the true and identified eigenvalues for IPSID with additional steps   \n",
    "\n",
    "# Intrinsic behaviorally relevant eigenvalues encoded in neural activity\n",
    "idEigs1 = np.linalg.eig(idSys4_low_dim.A[:2,:2])[0]\n",
    "\n",
    "# Other intrinsic eigenvalues encoded in neural activity\n",
    "idEigs2 = np.linalg.eig(idSys4_low_dim.A[2:, 2:])[0]\n",
    "\n",
    "# Behaviorally relevant eigenvalues not encoded in neural activity\n",
    "idEigs3 = np.linalg.eig(idSys4.A[4:, 4:])[0]\n",
    "\n",
    "relevantDims = trueSys2.zDims - 1 # Dimensions that drive both behavior and neural activity\n",
    "irrelevantDims = [2, 3] # Dimensions that only drive the neural activity\n",
    "trueEigsRelevant = np.linalg.eig(trueSys2.A[np.ix_(relevantDims, relevantDims)])[0]\n",
    "trueEigsIrrelevant = np.linalg.eig(trueSys2.A[np.ix_(irrelevantDims, irrelevantDims)])[0]\n",
    "trueEigsInput = np.linalg.eig(Au)[0]\n",
    "trueEigsNonEncoded = np.linalg.eig(trueSys2.A[4:,4:])[0]\n",
    "\n",
    "\n",
    "fig = plt.figure(figsize=(8, 4))\n",
    "axs = fig.subplots(1, 2)\n",
    "axs[1].remove() \n",
    "ax = axs[0]\n",
    "ax.axis('equal')\n",
    "ax.add_patch( patches.Circle((0,0), radius=1, fill=False, color='black', alpha=0.2, ls='-') )\n",
    "ax.plot([-1,1,0,0,0], [0,0,0,-1,1], color='black', alpha=0.2, ls='-')\n",
    "ax.scatter(np.real(trueEigsInput), np.imag(trueEigsInput), marker='o', edgecolors='#800080', facecolors='none', label='Input eigenvalues')\n",
    "ax.scatter(np.real(trueEigsIrrelevant), np.imag(trueEigsIrrelevant), marker='o', edgecolors='#FF5733', facecolors='none', label='Other neural eigenvalues')\n",
    "ax.scatter(np.real(trueEigsRelevant), np.imag(trueEigsRelevant), marker='o', edgecolors='#50C878', facecolors='none', label='Behaviorally relevant neural eigenvalues')\n",
    "ax.scatter(np.real(trueEigsNonEncoded), np.imag(trueEigsNonEncoded), marker='o', edgecolors='#000000', facecolors='none', label='Behaviorally relevant not encoded in neural activity eigenvalues')\n",
    "ax.scatter(np.real(idEigs1), np.imag(idEigs1), marker='x', facecolors='#138a33', label='IPSID Identified (stage 1)')\n",
    "ax.scatter(np.real(idEigs2), np.imag(idEigs2), marker='x', facecolors='#b04c1a', label='(optional) IPSID Identified (stage 2)')\n",
    "ax.scatter(np.real(idEigs3), np.imag(idEigs3), marker='x', facecolors='#000000', label='(optional) IPSID Identified in optional additional step 2')\n",
    "\n",
    "ax.set_title('True and identified eigevalues')\n",
    "ax.legend(bbox_to_anchor=(1.04,0.5), loc=\"center left\", borderaxespad=0)\n",
    "plt.show()"
   ]
  },
  {
   "cell_type": "markdown",
   "metadata": {},
   "source": [
    "# Using IPSID *with additional steps* with trial based data\n",
    "Again, exactly as noted above, IPSID with additional steps also supports data that is available in separate chunks, for example across many trials. To do this, again, simply pass a python list with the data in each chunk/trial as the argument to IPSID. The trials don't need to have the same number of samples either. \n",
    "\n",
    "Below is an example, where we break the same data as before in small chunks of random length, and then pass it to IPSID with additional steps."
   ]
  },
  {
   "cell_type": "code",
   "execution_count": 30,
   "metadata": {},
   "outputs": [
    {
     "name": "stdout",
     "output_type": "stream",
     "text": [
      "\n",
      "Behavior decoding R2 (trial-based learning/decoding):\n",
      "  IPSID => 0.929, IPSID (without additional step 2) => 0.475, Ideal using true model => 0.984\n",
      "Neural self-prediction R2 (trial-based learning/decoding):\n",
      "  IPSID => 0.985, IPSID (without additional step 2) => 0.985, Ideal using true model => 0.988\n"
     ]
    }
   ],
   "source": [
    "## (Example 4) IPSID with additional steps can also be used if data is available \n",
    "# in discontinuous segments (e.g. different trials)\n",
    "# In this case, y, z and u data segments must be provided as elements of a list\n",
    "# Trials do not need to have the same number of samples\n",
    "# Here, for example assume that trials start at every 1000 samples.\n",
    "# And each each trial has a random length of 900 to 990 samples\n",
    "trialStartInds = np.arange(0, allYData.shape[0]-1000, 1000)\n",
    "trialDurRange = np.array([900, 990])\n",
    "trialDur = np.random.randint(low=trialDurRange[0], high=1+trialDurRange[1], size=trialStartInds.shape)\n",
    "\n",
    "# We can cut the same data into trials\n",
    "# trialInds = [trialStartInds[ti]+np.arange(trialDur[ti]) for ti in range(trialStartInds.size)] \n",
    "# yTrials = [allYData[trialIndsThis, :] for trialIndsThis in trialInds] \n",
    "# zTrials = [allZData[trialIndsThis, :] for trialIndsThis in trialInds] \n",
    "# uTrials = [allUData[trialIndsThis, :] for trialIndsThis in trialInds] \n",
    "\n",
    "# Or alternatively we can generate some new trial based data, which would give the data a more\n",
    "# realistic consistency in how each trial starts\n",
    "yTrials, zTrials, uTrials = [], [], []\n",
    "for trial_samples in trialDur:\n",
    "    yThis, zThis, uThis = generate_data2(trial_samples)\n",
    "    yTrials.append(yThis) # We don't need to add YMean to y since it is already added by trueSys2's YPredModel\n",
    "    zTrials.append(zThis+ZMean)\n",
    "    uTrials.append(uThis+UMean)\n",
    "\n",
    "# Separate data into training and test data:\n",
    "trainInds = np.arange(np.round(0.5*len(yTrials)), dtype=int)\n",
    "testInds = np.arange(1+trainInds[-1], len(yTrials))\n",
    "yTrainTrials = [yTrials[ti] for ti in trainInds]\n",
    "yTestTrials = [yTrials[ti] for ti in testInds]\n",
    "zTrainTrials = [zTrials[ti] for ti in trainInds]\n",
    "zTestTrials = [zTrials[ti] for ti in testInds]\n",
    "uTrainTrials = [uTrials[ti] for ti in trainInds]\n",
    "uTestTrials = [uTrials[ti] for ti in testInds]\n",
    "\n",
    "idSys4 = PSID.IPSID(yTrainTrials, zTrainTrials, uTrainTrials, nx=6, n1=2, i=10, remove_nonYrelated_fromX1=True, n_pre=4, n3=2) # n_pre should be equal to true n1+true n2\n",
    "\n",
    "zPredTrials, yPredTrials, xPredTrials = idSys4.predict(yTestTrials, uTestTrials)\n",
    "zPredA = np.concatenate( zPredTrials, axis=0)\n",
    "yPredA = np.concatenate( yPredTrials, axis=0)\n",
    "\n",
    "zPredTrialsIdeal, yPredTrialsIdeal, xPredTrialsIdeal = trueSys2.predict(yTestTrials, uTestTrials)\n",
    "zPredIdealA = np.concatenate( zPredTrialsIdeal, axis=0)\n",
    "yPredIdealA = np.concatenate( yPredTrialsIdeal, axis=0)\n",
    "\n",
    "zTestA = np.concatenate( zTestTrials, axis=0)\n",
    "yTestA = np.concatenate( yTestTrials, axis=0)\n",
    "R2TrialBased = evalPrediction(zTestA, zPredA, 'R2')\n",
    "yR2TrialBased = evalPrediction(yTestA, yPredA, 'R2')\n",
    "R2TrialBasedIdeal = evalPrediction(zTestA, zPredIdealA, 'R2')\n",
    "yR2TrialBasedIdeal = evalPrediction(yTestA, yPredIdealA, 'R2')\n",
    "\n",
    "# For comparison, let's also learn a model without the additional step 2 (only [x1;x2])\n",
    "idSys4_low_dim = PSID.IPSID(yTrainTrials, zTrainTrials, uTrainTrials, nx=4, n1=2, i=10, remove_nonYrelated_fromX1=True, n_pre=4, n3=0) # n_pre should be equal to true n1+true n2\n",
    "zPredTrials_low_dim, yPredTrials_low_dim, xPredTrials_low_dim = idSys4_low_dim.predict(yTestTrials, uTestTrials)\n",
    "zPredA_low_dim = np.concatenate( zPredTrials_low_dim, axis=0)\n",
    "yPredA_low_dim = np.concatenate( yPredTrials_low_dim, axis=0)\n",
    "R2TrialBased_low_dim = evalPrediction(zTestA, zPredA_low_dim, 'R2')\n",
    "yR2TrialBased_low_dim = evalPrediction(yTestA, yPredA_low_dim, 'R2')\n",
    "\n",
    "print('\\nBehavior decoding R2 (trial-based learning/decoding):\\n  IPSID => {:.3g}, IPSID (without additional step 2) => {:.3g}, Ideal using true model => {:.3g}'.format(np.mean(R2TrialBased), np.mean(R2TrialBased_low_dim), np.mean(R2TrialBasedIdeal)) )\n",
    "print('Neural self-prediction R2 (trial-based learning/decoding):\\n  IPSID => {:.3g}, IPSID (without additional step 2) => {:.3g}, Ideal using true model => {:.3g}'.format(np.mean(yR2TrialBased), np.mean(yR2TrialBased_low_dim), np.mean(yR2TrialBasedIdeal)) )\n"
   ]
  },
  {
   "cell_type": "markdown",
   "metadata": {},
   "source": [
    "# Licence\n",
    "Copyright (c) 2020 University of Southern California  \n",
    "See full notice in [LICENSE.md](https://github.com/ShanechiLab/PyPSID/blob/main/LICENSE.md)  \n",
    "Parsa Vahidi, Omid G. Sani and Maryam M. Shanechi  \n",
    "Shanechi Lab, University of Southern California"
   ]
  }
 ],
 "metadata": {
  "colab": {
   "collapsed_sections": [],
   "name": "PSID_example.ipynb",
   "provenance": [],
   "toc_visible": true
  },
  "kernelspec": {
   "display_name": "Python 3.11.4 ('PyPSIDTest20240216')",
   "language": "python",
   "name": "python3"
  },
  "language_info": {
   "codemirror_mode": {
    "name": "ipython",
    "version": 3
   },
   "file_extension": ".py",
   "mimetype": "text/x-python",
   "name": "python",
   "nbconvert_exporter": "python",
   "pygments_lexer": "ipython3",
   "version": "3.11.4"
  },
  "vscode": {
   "interpreter": {
    "hash": "3743c688509acc81a9bd92426c8ee8eb8f17b61939b5d1246ab7b9f955e7a1b4"
   }
  }
 },
 "nbformat": 4,
 "nbformat_minor": 1
}
